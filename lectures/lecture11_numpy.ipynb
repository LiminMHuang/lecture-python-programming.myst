{
 "cells": [
  {
   "cell_type": "markdown",
   "id": "7cdedd02",
   "metadata": {},
   "source": [
    "<a id='np'></a>\n",
    "<div id=\"qe-notebook-header\" align=\"right\" style=\"text-align:right;\">\n",
    "        <a href=\"https://quantecon.org/\" title=\"quantecon.org\">\n",
    "                <img style=\"width:250px;display:inline;\" width=\"250px\" src=\"https://assets.quantecon.org/img/qe-menubar-logo.svg\" alt=\"QuantEcon\">\n",
    "        </a>\n",
    "</div>"
   ]
  },
  {
   "cell_type": "markdown",
   "id": "aae92de4",
   "metadata": {},
   "source": [
    "# NumPy\n",
    "\n",
    "<a id='index-1'></a>\n",
    "> “Let's be clear: the work of science has nothing whatever to do with consensus. Consensus is the business of politics. Science, on the contrary, requires only one investigator who happens to be right, which means that he or she has results that are verifiable by reference to the real world. In science consensus is irrelevant. What is relevant is reproducible results.” – Michael Crichton"
   ]
  },
  {
   "cell_type": "markdown",
   "id": "e9845139",
   "metadata": {},
   "source": [
    "## Overview\n",
    "\n",
    "[NumPy](https://en.wikipedia.org/wiki/NumPy) is a first-rate library for numerical programming\n",
    "\n",
    "- Widely used in academia, finance and industry.\n",
    "- Mature, fast, stable and under continuous development.\n",
    "\n",
    "\n",
    "We have already seen some code involving NumPy in the preceding lectures.\n",
    "\n",
    "In this lecture, we will start a more systematic discussion of\n",
    "\n",
    "1. NumPy arrays and\n",
    "1. the fundamental array processing operations provided by NumPy.\n",
    "\n",
    "\n",
    "(For an alternative reference, see [the official NumPy documentation](http://docs.scipy.org/doc/numpy/reference/).)\n",
    "\n",
    "We will use the following imports."
   ]
  },
  {
   "cell_type": "code",
   "execution_count": 1,
   "id": "18d85a72",
   "metadata": {
    "hide-output": false
   },
   "outputs": [],
   "source": [
    "import numpy as np\n",
    "import random\n",
    "import quantecon as qe\n",
    "import matplotlib.pyplot as plt\n",
    "from mpl_toolkits.mplot3d.axes3d import Axes3D\n",
    "from matplotlib import cm"
   ]
  },
  {
   "cell_type": "markdown",
   "id": "0b6fc61f",
   "metadata": {},
   "source": [
    "<a id='numpy-array'></a>"
   ]
  },
  {
   "cell_type": "markdown",
   "id": "9f7f975f",
   "metadata": {},
   "source": [
    "## NumPy Arrays\n",
    "\n",
    "\n",
    "<a id='index-2'></a>\n",
    "The essential problem that NumPy solves is fast array processing.\n",
    "\n",
    "The most important structure that NumPy defines is an array data type, formally called a [numpy.ndarray](http://docs.scipy.org/doc/numpy/reference/arrays.ndarray.html) (N-dimensional array).\n",
    "\n",
    "NumPy arrays power a very large proportion of the scientific Python ecosystem.\n",
    "\n",
    "To create a NumPy array containing only zeros we use  [np.zeros](http://docs.scipy.org/doc/numpy/reference/generated/numpy.zeros.html#numpy.zeros)"
   ]
  },
  {
   "cell_type": "code",
   "execution_count": 2,
   "id": "7efd604e",
   "metadata": {
    "hide-output": false
   },
   "outputs": [
    {
     "data": {
      "text/plain": [
       "array([0., 0., 0.])"
      ]
     },
     "execution_count": 2,
     "metadata": {},
     "output_type": "execute_result"
    }
   ],
   "source": [
    "a = np.zeros(3)\n",
    "a"
   ]
  },
  {
   "cell_type": "code",
   "execution_count": 3,
   "id": "ccdfc8b9",
   "metadata": {
    "hide-output": false
   },
   "outputs": [
    {
     "data": {
      "text/plain": [
       "numpy.ndarray"
      ]
     },
     "execution_count": 3,
     "metadata": {},
     "output_type": "execute_result"
    }
   ],
   "source": [
    "type(a)"
   ]
  },
  {
   "cell_type": "markdown",
   "id": "50a141f3",
   "metadata": {},
   "source": [
    "NumPy arrays are somewhat like native Python lists, except that\n",
    "\n",
    "- Data *must be homogeneous* (all elements of the same type).\n",
    "- These types must be one of the [data types](https://docs.scipy.org/doc/numpy/reference/arrays.dtypes.html) (`dtypes`) provided by NumPy.\n",
    "\n",
    "\n",
    "The most important of these dtypes are:\n",
    "\n",
    "- float64: 64 bit floating-point number\n",
    "- int64: 64 bit integer\n",
    "- bool: 8 bit True or False\n",
    "\n",
    "\n",
    "There are also dtypes to represent complex numbers, unsigned integers, etc.\n",
    "\n",
    "On modern machines, the default dtype for arrays is `float64`"
   ]
  },
  {
   "cell_type": "code",
   "execution_count": 4,
   "id": "70603f6b",
   "metadata": {
    "hide-output": false
   },
   "outputs": [
    {
     "data": {
      "text/plain": [
       "numpy.float64"
      ]
     },
     "execution_count": 4,
     "metadata": {},
     "output_type": "execute_result"
    }
   ],
   "source": [
    "a = np.zeros(3)\n",
    "type(a[0])"
   ]
  },
  {
   "cell_type": "markdown",
   "id": "0934bad4",
   "metadata": {},
   "source": [
    "If we want to use integers we can specify as follows:"
   ]
  },
  {
   "cell_type": "code",
   "execution_count": 5,
   "id": "61cf57db",
   "metadata": {
    "hide-output": false
   },
   "outputs": [
    {
     "data": {
      "text/plain": [
       "numpy.int64"
      ]
     },
     "execution_count": 5,
     "metadata": {},
     "output_type": "execute_result"
    }
   ],
   "source": [
    "a = np.zeros(3, dtype=int)\n",
    "type(a[0])"
   ]
  },
  {
   "cell_type": "markdown",
   "id": "aa3a6800",
   "metadata": {},
   "source": [
    "<a id='numpy-shape-dim'></a>"
   ]
  },
  {
   "cell_type": "markdown",
   "id": "5dbe8885",
   "metadata": {},
   "source": [
    "### Shape and Dimension\n",
    "\n",
    "\n",
    "<a id='index-3'></a>\n",
    "Consider the following assignment"
   ]
  },
  {
   "cell_type": "code",
   "execution_count": 6,
   "id": "0394767b",
   "metadata": {
    "hide-output": false
   },
   "outputs": [],
   "source": [
    "z = np.zeros(10)"
   ]
  },
  {
   "cell_type": "code",
   "execution_count": 7,
   "id": "ddf0a798-40b8-4b69-a3f6-6ee6f6431e36",
   "metadata": {},
   "outputs": [
    {
     "data": {
      "text/plain": [
       "array([0., 0., 0., 0., 0., 0., 0., 0., 0., 0.])"
      ]
     },
     "execution_count": 7,
     "metadata": {},
     "output_type": "execute_result"
    }
   ],
   "source": [
    "z"
   ]
  },
  {
   "cell_type": "markdown",
   "id": "d0a69241",
   "metadata": {},
   "source": [
    "Here `z` is a *flat* array with no dimension — neither row nor column vector.\n",
    "\n",
    "The dimension is recorded in the `shape` attribute, which is a tuple"
   ]
  },
  {
   "cell_type": "code",
   "execution_count": 8,
   "id": "25277228",
   "metadata": {
    "hide-output": false
   },
   "outputs": [
    {
     "data": {
      "text/plain": [
       "(10,)"
      ]
     },
     "execution_count": 8,
     "metadata": {},
     "output_type": "execute_result"
    }
   ],
   "source": [
    "z.shape"
   ]
  },
  {
   "cell_type": "markdown",
   "id": "53d7524f",
   "metadata": {},
   "source": [
    "Here the shape tuple has only one element, which is the length of the array (tuples with one element end with a comma).\n",
    "\n",
    "To give it dimension, we can change the `shape` attribute"
   ]
  },
  {
   "cell_type": "code",
   "execution_count": 9,
   "id": "e5e60447",
   "metadata": {
    "hide-output": false
   },
   "outputs": [
    {
     "data": {
      "text/plain": [
       "array([[0.],\n",
       "       [0.],\n",
       "       [0.],\n",
       "       [0.],\n",
       "       [0.],\n",
       "       [0.],\n",
       "       [0.],\n",
       "       [0.],\n",
       "       [0.],\n",
       "       [0.]])"
      ]
     },
     "execution_count": 9,
     "metadata": {},
     "output_type": "execute_result"
    }
   ],
   "source": [
    "z.shape = (10, 1)\n",
    "z"
   ]
  },
  {
   "cell_type": "code",
   "execution_count": 10,
   "id": "a279c5de",
   "metadata": {
    "hide-output": false
   },
   "outputs": [
    {
     "data": {
      "text/plain": [
       "array([[0., 0.],\n",
       "       [0., 0.]])"
      ]
     },
     "execution_count": 10,
     "metadata": {},
     "output_type": "execute_result"
    }
   ],
   "source": [
    "z = np.zeros(4)\n",
    "z.shape = (2, 2)\n",
    "z"
   ]
  },
  {
   "cell_type": "markdown",
   "id": "f12bac08",
   "metadata": {},
   "source": [
    "In the last case, to make the 2 by 2 array, we could also pass a tuple to the `zeros()` function, as\n",
    "in `z = np.zeros((2, 2))`.\n",
    "\n",
    "\n",
    "<a id='creating-arrays'></a>"
   ]
  },
  {
   "cell_type": "markdown",
   "id": "ccf3ce0e",
   "metadata": {},
   "source": [
    "### Creating Arrays\n",
    "\n",
    "\n",
    "<a id='index-4'></a>\n",
    "As we have seen, the `np.zeros` function creates an array of zeros.\n",
    "\n",
    "You can probably guess what `np.ones` creates.\n",
    "\n",
    "Related is `np.empty`, which creates arrays in memory that can later be populated with data"
   ]
  },
  {
   "cell_type": "code",
   "execution_count": 11,
   "id": "a3f2dfe7-efe5-4e2f-91e6-c9420337baa3",
   "metadata": {},
   "outputs": [
    {
     "data": {
      "text/plain": [
       "array([1., 1., 1., 1., 1., 1., 1., 1., 1.])"
      ]
     },
     "execution_count": 11,
     "metadata": {},
     "output_type": "execute_result"
    }
   ],
   "source": [
    "y1 = np.ones(9)\n",
    "y1"
   ]
  },
  {
   "cell_type": "code",
   "execution_count": 12,
   "id": "4d25e98f",
   "metadata": {
    "hide-output": false
   },
   "outputs": [
    {
     "data": {
      "text/plain": [
       "array([0., 0., 0.])"
      ]
     },
     "execution_count": 12,
     "metadata": {},
     "output_type": "execute_result"
    }
   ],
   "source": [
    "z = np.empty(3)\n",
    "z"
   ]
  },
  {
   "cell_type": "markdown",
   "id": "db5f2ac5",
   "metadata": {},
   "source": [
    "The numbers you see here are garbage values.\n",
    "\n",
    "(Python allocates three contiguous (相邻的) 64 bit pieces of memory, and the existing contents of those memory slots are interpreted as `float64` values)\n",
    "\n",
    "To set up a grid of evenly spaced numbers use `np.linspace`"
   ]
  },
  {
   "cell_type": "code",
   "execution_count": 13,
   "id": "0bf4cdd8",
   "metadata": {
    "hide-output": false
   },
   "outputs": [],
   "source": [
    "z = np.linspace(2, 4, 5)  # From 2 to 4, with 5 elements"
   ]
  },
  {
   "cell_type": "code",
   "execution_count": 14,
   "id": "6fa42d75-9f19-4364-82f9-6ced79dd62c8",
   "metadata": {},
   "outputs": [
    {
     "data": {
      "text/plain": [
       "array([2. , 2.5, 3. , 3.5, 4. ])"
      ]
     },
     "execution_count": 14,
     "metadata": {},
     "output_type": "execute_result"
    }
   ],
   "source": [
    "z"
   ]
  },
  {
   "cell_type": "markdown",
   "id": "49e565cf",
   "metadata": {},
   "source": [
    "To create an identity matrix use either `np.identity` or `np.eye`"
   ]
  },
  {
   "cell_type": "code",
   "execution_count": 15,
   "id": "dbf8b3e5",
   "metadata": {
    "hide-output": false
   },
   "outputs": [
    {
     "name": "stdout",
     "output_type": "stream",
     "text": [
      "[[1. 0.]\n",
      " [0. 1.]]\n",
      "[[1. 0.]\n",
      " [0. 1.]]\n"
     ]
    },
    {
     "data": {
      "text/plain": [
       "array([[ True,  True],\n",
       "       [ True,  True]])"
      ]
     },
     "execution_count": 15,
     "metadata": {},
     "output_type": "execute_result"
    }
   ],
   "source": [
    "z = np.identity(2)\n",
    "print(z)\n",
    "z2 = np.eye(2)\n",
    "print(z2)\n",
    "z == z2"
   ]
  },
  {
   "cell_type": "markdown",
   "id": "7d086499",
   "metadata": {},
   "source": [
    "In addition, NumPy arrays can be created from Python lists, tuples, etc. using `np.array`"
   ]
  },
  {
   "cell_type": "code",
   "execution_count": 16,
   "id": "fa1f5e77",
   "metadata": {
    "hide-output": false
   },
   "outputs": [
    {
     "data": {
      "text/plain": [
       "array([10, 20])"
      ]
     },
     "execution_count": 16,
     "metadata": {},
     "output_type": "execute_result"
    }
   ],
   "source": [
    "z = np.array([10, 20])                 # ndarray from Python list\n",
    "z"
   ]
  },
  {
   "cell_type": "code",
   "execution_count": 17,
   "id": "939d20ce",
   "metadata": {
    "hide-output": false
   },
   "outputs": [
    {
     "data": {
      "text/plain": [
       "numpy.ndarray"
      ]
     },
     "execution_count": 17,
     "metadata": {},
     "output_type": "execute_result"
    }
   ],
   "source": [
    "type(z)"
   ]
  },
  {
   "cell_type": "code",
   "execution_count": 18,
   "id": "2afa12d4",
   "metadata": {
    "hide-output": false
   },
   "outputs": [
    {
     "data": {
      "text/plain": [
       "array([10., 20.])"
      ]
     },
     "execution_count": 18,
     "metadata": {},
     "output_type": "execute_result"
    }
   ],
   "source": [
    "z = np.array((10, 20), dtype=float)    # Here 'float' is equivalent to 'np.float64'\n",
    "z"
   ]
  },
  {
   "cell_type": "code",
   "execution_count": 19,
   "id": "40f2e8ea",
   "metadata": {
    "hide-output": false
   },
   "outputs": [
    {
     "data": {
      "text/plain": [
       "array([[1, 2],\n",
       "       [3, 4]])"
      ]
     },
     "execution_count": 19,
     "metadata": {},
     "output_type": "execute_result"
    }
   ],
   "source": [
    "z = np.array([[1, 2], [3, 4]])         # 2D array from a list of lists\n",
    "z"
   ]
  },
  {
   "cell_type": "markdown",
   "id": "d68a2340",
   "metadata": {},
   "source": [
    "See also `np.asarray`, which performs a similar function, but does not make a distinct copy of data already in a NumPy array."
   ]
  },
  {
   "cell_type": "code",
   "execution_count": 20,
   "id": "b0ec95ec",
   "metadata": {
    "hide-output": false
   },
   "outputs": [
    {
     "data": {
      "text/plain": [
       "True"
      ]
     },
     "execution_count": 20,
     "metadata": {},
     "output_type": "execute_result"
    }
   ],
   "source": [
    "na = np.linspace(10, 20, 2)\n",
    "na is np.asarray(na)   # Does not copy NumPy arrays"
   ]
  },
  {
   "cell_type": "code",
   "execution_count": 21,
   "id": "90e80d5a-15da-4c2a-9af7-45f92643d6ce",
   "metadata": {},
   "outputs": [
    {
     "data": {
      "text/plain": [
       "array([10., 20.])"
      ]
     },
     "execution_count": 21,
     "metadata": {},
     "output_type": "execute_result"
    }
   ],
   "source": [
    "na"
   ]
  },
  {
   "cell_type": "code",
   "execution_count": 22,
   "id": "d352c5e2",
   "metadata": {
    "hide-output": false
   },
   "outputs": [
    {
     "data": {
      "text/plain": [
       "False"
      ]
     },
     "execution_count": 22,
     "metadata": {},
     "output_type": "execute_result"
    }
   ],
   "source": [
    "na is np.array(na)     # Does make a new copy --- perhaps unnecessarily"
   ]
  },
  {
   "cell_type": "markdown",
   "id": "8b12c163",
   "metadata": {},
   "source": [
    "To read in the array data from a text file containing numeric data use `np.loadtxt`\n",
    "or `np.genfromtxt`—see [the documentation](http://docs.scipy.org/doc/numpy/reference/routines.io.html) for details."
   ]
  },
  {
   "cell_type": "markdown",
   "id": "e548ea1f",
   "metadata": {},
   "source": [
    "### Array Indexing\n",
    "\n",
    "\n",
    "<a id='index-5'></a>\n",
    "For a flat array, indexing is the same as Python sequences:"
   ]
  },
  {
   "cell_type": "code",
   "execution_count": 23,
   "id": "e147b0fa",
   "metadata": {
    "hide-output": false
   },
   "outputs": [
    {
     "data": {
      "text/plain": [
       "array([1.  , 1.25, 1.5 , 1.75, 2.  ])"
      ]
     },
     "execution_count": 23,
     "metadata": {},
     "output_type": "execute_result"
    }
   ],
   "source": [
    "z = np.linspace(1, 2, 5)\n",
    "z"
   ]
  },
  {
   "cell_type": "code",
   "execution_count": 24,
   "id": "e70b011c",
   "metadata": {
    "hide-output": false
   },
   "outputs": [
    {
     "data": {
      "text/plain": [
       "1.0"
      ]
     },
     "execution_count": 24,
     "metadata": {},
     "output_type": "execute_result"
    }
   ],
   "source": [
    "z[0]"
   ]
  },
  {
   "cell_type": "code",
   "execution_count": 25,
   "id": "e06dcebb",
   "metadata": {
    "hide-output": false
   },
   "outputs": [
    {
     "data": {
      "text/plain": [
       "array([1.  , 1.25])"
      ]
     },
     "execution_count": 25,
     "metadata": {},
     "output_type": "execute_result"
    }
   ],
   "source": [
    "z[0:2]  # Two elements, starting at element 0"
   ]
  },
  {
   "cell_type": "code",
   "execution_count": 26,
   "id": "fae1a598",
   "metadata": {
    "hide-output": false
   },
   "outputs": [
    {
     "data": {
      "text/plain": [
       "2.0"
      ]
     },
     "execution_count": 26,
     "metadata": {},
     "output_type": "execute_result"
    }
   ],
   "source": [
    "z[-1]"
   ]
  },
  {
   "cell_type": "markdown",
   "id": "db31389b",
   "metadata": {},
   "source": [
    "For 2D arrays the index syntax is as follows:"
   ]
  },
  {
   "cell_type": "code",
   "execution_count": 27,
   "id": "8f7d3fad",
   "metadata": {
    "hide-output": false
   },
   "outputs": [
    {
     "data": {
      "text/plain": [
       "array([[1, 2],\n",
       "       [3, 4]])"
      ]
     },
     "execution_count": 27,
     "metadata": {},
     "output_type": "execute_result"
    }
   ],
   "source": [
    "z = np.array([[1, 2], [3, 4]])\n",
    "z"
   ]
  },
  {
   "cell_type": "code",
   "execution_count": 28,
   "id": "7685a456",
   "metadata": {
    "hide-output": false
   },
   "outputs": [
    {
     "data": {
      "text/plain": [
       "1"
      ]
     },
     "execution_count": 28,
     "metadata": {},
     "output_type": "execute_result"
    }
   ],
   "source": [
    "z[0, 0]"
   ]
  },
  {
   "cell_type": "code",
   "execution_count": 29,
   "id": "4fa686b6",
   "metadata": {
    "hide-output": false
   },
   "outputs": [
    {
     "data": {
      "text/plain": [
       "2"
      ]
     },
     "execution_count": 29,
     "metadata": {},
     "output_type": "execute_result"
    }
   ],
   "source": [
    "z[0, 1]"
   ]
  },
  {
   "cell_type": "markdown",
   "id": "d0d85e08",
   "metadata": {},
   "source": [
    "And so on.\n",
    "\n",
    "Note that indices are still zero-based, to maintain compatibility with Python sequences.\n",
    "\n",
    "Columns and rows can be extracted as follows"
   ]
  },
  {
   "cell_type": "code",
   "execution_count": 30,
   "id": "6dbe0f19",
   "metadata": {
    "hide-output": false
   },
   "outputs": [
    {
     "data": {
      "text/plain": [
       "array([1, 2])"
      ]
     },
     "execution_count": 30,
     "metadata": {},
     "output_type": "execute_result"
    }
   ],
   "source": [
    "z[0, :]"
   ]
  },
  {
   "cell_type": "code",
   "execution_count": 31,
   "id": "8b5a09d0",
   "metadata": {
    "hide-output": false
   },
   "outputs": [
    {
     "data": {
      "text/plain": [
       "array([2, 4])"
      ]
     },
     "execution_count": 31,
     "metadata": {},
     "output_type": "execute_result"
    }
   ],
   "source": [
    "z[:, 1]"
   ]
  },
  {
   "cell_type": "markdown",
   "id": "c2587c85",
   "metadata": {},
   "source": [
    "NumPy arrays of integers can also be used to extract elements"
   ]
  },
  {
   "cell_type": "code",
   "execution_count": 32,
   "id": "d3820770",
   "metadata": {
    "hide-output": false
   },
   "outputs": [
    {
     "data": {
      "text/plain": [
       "array([2. , 2.5, 3. , 3.5, 4. ])"
      ]
     },
     "execution_count": 32,
     "metadata": {},
     "output_type": "execute_result"
    }
   ],
   "source": [
    "z = np.linspace(2, 4, 5)\n",
    "z"
   ]
  },
  {
   "cell_type": "code",
   "execution_count": 33,
   "id": "27526dc7",
   "metadata": {
    "hide-output": false
   },
   "outputs": [
    {
     "data": {
      "text/plain": [
       "array([2. , 3. , 3.5])"
      ]
     },
     "execution_count": 33,
     "metadata": {},
     "output_type": "execute_result"
    }
   ],
   "source": [
    "indices = np.array((0, 2, 3))\n",
    "z[indices]"
   ]
  },
  {
   "cell_type": "markdown",
   "id": "81b78406",
   "metadata": {},
   "source": [
    "Finally, an array of `dtype bool` can be used to extract elements"
   ]
  },
  {
   "cell_type": "code",
   "execution_count": 34,
   "id": "209ce099",
   "metadata": {
    "hide-output": false
   },
   "outputs": [
    {
     "data": {
      "text/plain": [
       "array([2. , 2.5, 3. , 3.5, 4. ])"
      ]
     },
     "execution_count": 34,
     "metadata": {},
     "output_type": "execute_result"
    }
   ],
   "source": [
    "z"
   ]
  },
  {
   "cell_type": "code",
   "execution_count": 35,
   "id": "0c1cc2eb",
   "metadata": {
    "hide-output": false
   },
   "outputs": [
    {
     "data": {
      "text/plain": [
       "array([False,  True,  True, False, False])"
      ]
     },
     "execution_count": 35,
     "metadata": {},
     "output_type": "execute_result"
    }
   ],
   "source": [
    "d = np.array([0, 1, 1, 0, 0], dtype=bool)\n",
    "d"
   ]
  },
  {
   "cell_type": "code",
   "execution_count": 36,
   "id": "40e278bc",
   "metadata": {
    "hide-output": false
   },
   "outputs": [
    {
     "data": {
      "text/plain": [
       "array([2.5, 3. ])"
      ]
     },
     "execution_count": 36,
     "metadata": {},
     "output_type": "execute_result"
    }
   ],
   "source": [
    "z[d]"
   ]
  },
  {
   "cell_type": "markdown",
   "id": "1bdffeb2",
   "metadata": {},
   "source": [
    "We will see why this is useful below.\n",
    "\n",
    "An aside: all elements of an array can be set equal to one number using slice notation"
   ]
  },
  {
   "cell_type": "code",
   "execution_count": 37,
   "id": "071ffbc2",
   "metadata": {
    "hide-output": false
   },
   "outputs": [
    {
     "data": {
      "text/plain": [
       "array([2. , 3. , 3.5])"
      ]
     },
     "execution_count": 37,
     "metadata": {},
     "output_type": "execute_result"
    }
   ],
   "source": [
    "z = np.empty(3)\n",
    "z"
   ]
  },
  {
   "cell_type": "code",
   "execution_count": 38,
   "id": "eb2fe027",
   "metadata": {
    "hide-output": false
   },
   "outputs": [
    {
     "data": {
      "text/plain": [
       "array([42., 42., 42.])"
      ]
     },
     "execution_count": 38,
     "metadata": {},
     "output_type": "execute_result"
    }
   ],
   "source": [
    "z[:] = 42\n",
    "z"
   ]
  },
  {
   "cell_type": "markdown",
   "id": "f0db17c0",
   "metadata": {},
   "source": [
    "### Array Methods\n",
    "\n",
    "\n",
    "<a id='index-6'></a>\n",
    "Arrays have useful methods, all of which are carefully optimised"
   ]
  },
  {
   "cell_type": "code",
   "execution_count": 39,
   "id": "622261d0",
   "metadata": {
    "hide-output": false
   },
   "outputs": [
    {
     "data": {
      "text/plain": [
       "array([4, 3, 2, 1])"
      ]
     },
     "execution_count": 39,
     "metadata": {},
     "output_type": "execute_result"
    }
   ],
   "source": [
    "a = np.array((4, 3, 2, 1))\n",
    "a"
   ]
  },
  {
   "cell_type": "code",
   "execution_count": 40,
   "id": "926bcde8",
   "metadata": {
    "hide-output": false
   },
   "outputs": [
    {
     "data": {
      "text/plain": [
       "array([1, 2, 3, 4])"
      ]
     },
     "execution_count": 40,
     "metadata": {},
     "output_type": "execute_result"
    }
   ],
   "source": [
    "a.sort()              # Sorts a in place\n",
    "a"
   ]
  },
  {
   "cell_type": "code",
   "execution_count": 41,
   "id": "0590a3bf",
   "metadata": {
    "hide-output": false
   },
   "outputs": [
    {
     "data": {
      "text/plain": [
       "10"
      ]
     },
     "execution_count": 41,
     "metadata": {},
     "output_type": "execute_result"
    }
   ],
   "source": [
    "a.sum()               # Sum"
   ]
  },
  {
   "cell_type": "code",
   "execution_count": 42,
   "id": "36630058",
   "metadata": {
    "hide-output": false
   },
   "outputs": [
    {
     "data": {
      "text/plain": [
       "2.5"
      ]
     },
     "execution_count": 42,
     "metadata": {},
     "output_type": "execute_result"
    }
   ],
   "source": [
    "a.mean()              # Mean"
   ]
  },
  {
   "cell_type": "code",
   "execution_count": 43,
   "id": "f5415286",
   "metadata": {
    "hide-output": false
   },
   "outputs": [
    {
     "data": {
      "text/plain": [
       "4"
      ]
     },
     "execution_count": 43,
     "metadata": {},
     "output_type": "execute_result"
    }
   ],
   "source": [
    "a.max()               # Max"
   ]
  },
  {
   "cell_type": "code",
   "execution_count": 44,
   "id": "f8366e1b",
   "metadata": {
    "hide-output": false
   },
   "outputs": [
    {
     "data": {
      "text/plain": [
       "3"
      ]
     },
     "execution_count": 44,
     "metadata": {},
     "output_type": "execute_result"
    }
   ],
   "source": [
    "a.argmax()            # Returns the index of the maximal element"
   ]
  },
  {
   "cell_type": "code",
   "execution_count": 45,
   "id": "d1542dfa",
   "metadata": {
    "hide-output": false
   },
   "outputs": [
    {
     "data": {
      "text/plain": [
       "array([ 1,  3,  6, 10])"
      ]
     },
     "execution_count": 45,
     "metadata": {},
     "output_type": "execute_result"
    }
   ],
   "source": [
    "a.cumsum()            # Cumulative sum of the elements of a"
   ]
  },
  {
   "cell_type": "code",
   "execution_count": 46,
   "id": "655bd832",
   "metadata": {
    "hide-output": false
   },
   "outputs": [
    {
     "data": {
      "text/plain": [
       "array([ 1,  2,  6, 24])"
      ]
     },
     "execution_count": 46,
     "metadata": {},
     "output_type": "execute_result"
    }
   ],
   "source": [
    "a.cumprod()           # Cumulative product of the elements of a"
   ]
  },
  {
   "cell_type": "code",
   "execution_count": 47,
   "id": "a86ac567",
   "metadata": {
    "hide-output": false
   },
   "outputs": [
    {
     "data": {
      "text/plain": [
       "1.25"
      ]
     },
     "execution_count": 47,
     "metadata": {},
     "output_type": "execute_result"
    }
   ],
   "source": [
    "a.var()               # Variance"
   ]
  },
  {
   "cell_type": "code",
   "execution_count": 48,
   "id": "879130ea",
   "metadata": {
    "hide-output": false
   },
   "outputs": [
    {
     "data": {
      "text/plain": [
       "1.118033988749895"
      ]
     },
     "execution_count": 48,
     "metadata": {},
     "output_type": "execute_result"
    }
   ],
   "source": [
    "a.std()               # Standard deviation"
   ]
  },
  {
   "cell_type": "code",
   "execution_count": 49,
   "id": "888e6453",
   "metadata": {
    "hide-output": false
   },
   "outputs": [
    {
     "data": {
      "text/plain": [
       "array([[1, 3],\n",
       "       [2, 4]])"
      ]
     },
     "execution_count": 49,
     "metadata": {},
     "output_type": "execute_result"
    }
   ],
   "source": [
    "a.shape = (2, 2)\n",
    "a.T                   # Equivalent to a.transpose()"
   ]
  },
  {
   "cell_type": "markdown",
   "id": "ebbb7fb2",
   "metadata": {},
   "source": [
    "Another method worth knowing is `searchsorted()`.\n",
    "\n",
    "If `z` is a nondecreasing array, then `z.searchsorted(a)` returns the index of the first element of `z` that is `>= a`"
   ]
  },
  {
   "cell_type": "code",
   "execution_count": 50,
   "id": "f74f2351",
   "metadata": {
    "hide-output": false
   },
   "outputs": [
    {
     "data": {
      "text/plain": [
       "array([2. , 2.5, 3. , 3.5, 4. ])"
      ]
     },
     "execution_count": 50,
     "metadata": {},
     "output_type": "execute_result"
    }
   ],
   "source": [
    "z = np.linspace(2, 4, 5)\n",
    "z"
   ]
  },
  {
   "cell_type": "code",
   "execution_count": 51,
   "id": "3bdef195",
   "metadata": {
    "hide-output": false
   },
   "outputs": [
    {
     "data": {
      "text/plain": [
       "1"
      ]
     },
     "execution_count": 51,
     "metadata": {},
     "output_type": "execute_result"
    }
   ],
   "source": [
    "z.searchsorted(2.2)"
   ]
  },
  {
   "cell_type": "markdown",
   "id": "25538e26",
   "metadata": {},
   "source": [
    "Many of the methods discussed above have equivalent functions in the NumPy namespace"
   ]
  },
  {
   "cell_type": "code",
   "execution_count": 52,
   "id": "acde91f9",
   "metadata": {
    "hide-output": false
   },
   "outputs": [],
   "source": [
    "a = np.array((4, 3, 2, 1))"
   ]
  },
  {
   "cell_type": "code",
   "execution_count": 53,
   "id": "8f74023a",
   "metadata": {
    "hide-output": false
   },
   "outputs": [
    {
     "data": {
      "text/plain": [
       "10"
      ]
     },
     "execution_count": 53,
     "metadata": {},
     "output_type": "execute_result"
    }
   ],
   "source": [
    "np.sum(a)"
   ]
  },
  {
   "cell_type": "code",
   "execution_count": 54,
   "id": "6e285718",
   "metadata": {
    "hide-output": false
   },
   "outputs": [
    {
     "data": {
      "text/plain": [
       "2.5"
      ]
     },
     "execution_count": 54,
     "metadata": {},
     "output_type": "execute_result"
    }
   ],
   "source": [
    "np.mean(a)"
   ]
  },
  {
   "cell_type": "markdown",
   "id": "44fd430d",
   "metadata": {},
   "source": [
    "## Arithmetic Operations\n",
    "\n",
    "\n",
    "<a id='index-7'></a>\n",
    "The operators `+`, `-`, `*`, `/` and `**` all act *elementwise* on arrays"
   ]
  },
  {
   "cell_type": "code",
   "execution_count": 55,
   "id": "2e683211",
   "metadata": {
    "hide-output": false
   },
   "outputs": [
    {
     "data": {
      "text/plain": [
       "array([ 6,  8, 10, 12])"
      ]
     },
     "execution_count": 55,
     "metadata": {},
     "output_type": "execute_result"
    }
   ],
   "source": [
    "a = np.array([1, 2, 3, 4])\n",
    "b = np.array([5, 6, 7, 8])\n",
    "a + b"
   ]
  },
  {
   "cell_type": "code",
   "execution_count": 56,
   "id": "aad0f75b",
   "metadata": {
    "hide-output": false
   },
   "outputs": [
    {
     "data": {
      "text/plain": [
       "array([ 5, 12, 21, 32])"
      ]
     },
     "execution_count": 56,
     "metadata": {},
     "output_type": "execute_result"
    }
   ],
   "source": [
    "a * b"
   ]
  },
  {
   "cell_type": "markdown",
   "id": "02c61d09",
   "metadata": {},
   "source": [
    "We can add a scalar to each element as follows"
   ]
  },
  {
   "cell_type": "code",
   "execution_count": 57,
   "id": "9cbf75a6",
   "metadata": {
    "hide-output": false
   },
   "outputs": [
    {
     "data": {
      "text/plain": [
       "array([11, 12, 13, 14])"
      ]
     },
     "execution_count": 57,
     "metadata": {},
     "output_type": "execute_result"
    }
   ],
   "source": [
    "a + 10"
   ]
  },
  {
   "cell_type": "markdown",
   "id": "6d51d96b",
   "metadata": {},
   "source": [
    "Scalar multiplication is similar"
   ]
  },
  {
   "cell_type": "code",
   "execution_count": 58,
   "id": "865e6b89",
   "metadata": {
    "hide-output": false
   },
   "outputs": [
    {
     "data": {
      "text/plain": [
       "array([10, 20, 30, 40])"
      ]
     },
     "execution_count": 58,
     "metadata": {},
     "output_type": "execute_result"
    }
   ],
   "source": [
    "a * 10"
   ]
  },
  {
   "cell_type": "markdown",
   "id": "720efdd7",
   "metadata": {},
   "source": [
    "The two-dimensional arrays follow the same general rules"
   ]
  },
  {
   "cell_type": "code",
   "execution_count": 59,
   "id": "863be54e",
   "metadata": {
    "hide-output": false
   },
   "outputs": [
    {
     "data": {
      "text/plain": [
       "array([[2., 2.],\n",
       "       [2., 2.]])"
      ]
     },
     "execution_count": 59,
     "metadata": {},
     "output_type": "execute_result"
    }
   ],
   "source": [
    "A = np.ones((2, 2))\n",
    "B = np.ones((2, 2))\n",
    "A + B"
   ]
  },
  {
   "cell_type": "code",
   "execution_count": 60,
   "id": "e823535a",
   "metadata": {
    "hide-output": false
   },
   "outputs": [
    {
     "data": {
      "text/plain": [
       "array([[11., 11.],\n",
       "       [11., 11.]])"
      ]
     },
     "execution_count": 60,
     "metadata": {},
     "output_type": "execute_result"
    }
   ],
   "source": [
    "A + 10"
   ]
  },
  {
   "cell_type": "code",
   "execution_count": 61,
   "id": "2daabbe9",
   "metadata": {
    "hide-output": false
   },
   "outputs": [
    {
     "data": {
      "text/plain": [
       "array([[1., 1.],\n",
       "       [1., 1.]])"
      ]
     },
     "execution_count": 61,
     "metadata": {},
     "output_type": "execute_result"
    }
   ],
   "source": [
    "A * B"
   ]
  },
  {
   "cell_type": "markdown",
   "id": "9ec7e0e1",
   "metadata": {},
   "source": [
    "<a id='numpy-matrix-multiplication'></a>\n",
    "In particular, `A * B` is *not* the matrix product, it is an element-wise product."
   ]
  },
  {
   "cell_type": "markdown",
   "id": "a8023d4e",
   "metadata": {},
   "source": [
    "## Matrix Multiplication\n",
    "\n",
    "\n",
    "<a id='index-8'></a>\n",
    "\n",
    "<a id='index-9'></a>\n",
    "With Anaconda’s scientific Python package based around Python 3.5 and above, one can use the `@` symbol for matrix multiplication, as follows:"
   ]
  },
  {
   "cell_type": "code",
   "execution_count": 62,
   "id": "be4cf760",
   "metadata": {
    "hide-output": false
   },
   "outputs": [
    {
     "data": {
      "text/plain": [
       "array([[2., 2.],\n",
       "       [2., 2.]])"
      ]
     },
     "execution_count": 62,
     "metadata": {},
     "output_type": "execute_result"
    }
   ],
   "source": [
    "A = np.ones((2, 2))\n",
    "B = np.ones((2, 2))\n",
    "A @ B"
   ]
  },
  {
   "cell_type": "markdown",
   "id": "f03f9fe0",
   "metadata": {},
   "source": [
    "(For older versions of Python and NumPy you need to use the [np.dot](http://docs.scipy.org/doc/numpy/reference/generated/numpy.dot.html) function)\n",
    "\n",
    "We can also use `@` to take the inner product of two flat arrays"
   ]
  },
  {
   "cell_type": "code",
   "execution_count": 63,
   "id": "aa831f7f",
   "metadata": {
    "hide-output": false
   },
   "outputs": [
    {
     "data": {
      "text/plain": [
       "50"
      ]
     },
     "execution_count": 63,
     "metadata": {},
     "output_type": "execute_result"
    }
   ],
   "source": [
    "A = np.array((1, 2))\n",
    "B = np.array((10, 20))\n",
    "A @ B"
   ]
  },
  {
   "cell_type": "markdown",
   "id": "0e0ac304",
   "metadata": {},
   "source": [
    "In fact, we can use `@` when one element is a Python list or tuple"
   ]
  },
  {
   "cell_type": "code",
   "execution_count": 64,
   "id": "b05f0980",
   "metadata": {
    "hide-output": false
   },
   "outputs": [
    {
     "data": {
      "text/plain": [
       "array([[1, 2],\n",
       "       [3, 4]])"
      ]
     },
     "execution_count": 64,
     "metadata": {},
     "output_type": "execute_result"
    }
   ],
   "source": [
    "A = np.array(((1, 2), (3, 4)))\n",
    "A"
   ]
  },
  {
   "cell_type": "code",
   "execution_count": 65,
   "id": "7947cdb7",
   "metadata": {
    "hide-output": false
   },
   "outputs": [
    {
     "data": {
      "text/plain": [
       "array([2, 4])"
      ]
     },
     "execution_count": 65,
     "metadata": {},
     "output_type": "execute_result"
    }
   ],
   "source": [
    "A @ (0, 1)"
   ]
  },
  {
   "cell_type": "markdown",
   "id": "7a8968af",
   "metadata": {},
   "source": [
    "Since we are post-multiplying, the tuple is treated as a column vector.\n",
    "\n",
    "\n",
    "<a id='broadcasting'></a>"
   ]
  },
  {
   "cell_type": "markdown",
   "id": "652e6808",
   "metadata": {},
   "source": [
    "## Broadcasting\n",
    "\n",
    "\n",
    "<a id='index-10'></a>\n",
    "(This section extends an excellent discussion of broadcasting provided by [Jake VanderPlas](https://jakevdp.github.io/PythonDataScienceHandbook/02.05-computation-on-arrays-broadcasting.html).)\n",
    "\n",
    ">**Note**\n",
    ">\n",
    ">Broadcasting is a very important aspect of NumPy. At the same time, advanced broadcasting is relatively complex and some of the details below can be skimmed on first pass.\n",
    "\n",
    "In element-wise operations, arrays may not have the same shape.\n",
    "\n",
    "When this happens, NumPy will automatically expand arrays to the same shape whenever possible.\n",
    "\n",
    "This useful (but sometimes confusing) feature in NumPy is called **broadcasting**.\n",
    "\n",
    "The value of broadcasting is that\n",
    "\n",
    "- `for` loops can be avoided, which helps numerical code run fast and\n",
    "- broadcasting can allow us to implement operations on arrays without actually creating some dimensions of these arrays in memory, which can be important when arrays are large. \n",
    "\n",
    "\n",
    "For example, suppose `a` is a $ 3 \\times 3 $ array (`a -> (3, 3)`), while `b` is a flat array with three elements (`b -> (3,)`).\n",
    "\n",
    "When adding them together, NumPy will automatically expand `b -> (3,)` to `b -> (3, 3)`.\n",
    "\n",
    "The element-wise addition will result in a $ 3 \\times 3 $ array"
   ]
  },
  {
   "cell_type": "code",
   "execution_count": 66,
   "id": "c9ab08d6",
   "metadata": {
    "hide-output": false
   },
   "outputs": [
    {
     "data": {
      "text/plain": [
       "array([[ 4,  8, 12],\n",
       "       [ 7, 11, 15],\n",
       "       [10, 14, 18]])"
      ]
     },
     "execution_count": 66,
     "metadata": {},
     "output_type": "execute_result"
    }
   ],
   "source": [
    "a = np.array(\n",
    "        [[1, 2, 3], \n",
    "         [4, 5, 6], \n",
    "         [7, 8, 9]])\n",
    "b = np.array([3, 6, 9])\n",
    "\n",
    "a + b"
   ]
  },
  {
   "cell_type": "markdown",
   "id": "8b373134",
   "metadata": {},
   "source": [
    "Here is a visual representation of this broadcasting operation:"
   ]
  },
  {
   "cell_type": "code",
   "execution_count": 67,
   "id": "f3f55188",
   "metadata": {
    "hide-output": false
   },
   "outputs": [
    {
     "data": {
      "image/png": "[encoded data removed]",
      "text/plain": [
       "<Figure size 500x100 with 1 Axes>"
      ]
     },
     "metadata": {},
     "output_type": "display_data"
    }
   ],
   "source": [
    "# Adapted and modified based on the code in the book written by Jake VanderPlas (see https://jakevdp.github.io/PythonDataScienceHandbook/06.00-figure-code.html#Broadcasting)\n",
    "# Originally from astroML: see http://www.astroml.org/book_figures/appendix/fig_broadcast_visual.html\n",
    "\n",
    "\n",
    "def draw_cube(ax, xy, size, depth=0.4,\n",
    "              edges=None, label=None, label_kwargs=None, **kwargs):\n",
    "    \"\"\"draw and label a cube.  edges is a list of numbers between\n",
    "    1 and 12, specifying which of the 12 cube edges to draw\"\"\"\n",
    "    if edges is None:\n",
    "        edges = range(1, 13)\n",
    "\n",
    "    x, y = xy\n",
    "\n",
    "    if 1 in edges:\n",
    "        ax.plot([x, x + size],\n",
    "                [y + size, y + size], **kwargs)\n",
    "    if 2 in edges:\n",
    "        ax.plot([x + size, x + size],\n",
    "                [y, y + size], **kwargs)\n",
    "    if 3 in edges:\n",
    "        ax.plot([x, x + size],\n",
    "                [y, y], **kwargs)\n",
    "    if 4 in edges:\n",
    "        ax.plot([x, x],\n",
    "                [y, y + size], **kwargs)\n",
    "\n",
    "    if 5 in edges:\n",
    "        ax.plot([x, x + depth],\n",
    "                [y + size, y + depth + size], **kwargs)\n",
    "    if 6 in edges:\n",
    "        ax.plot([x + size, x + size + depth],\n",
    "                [y + size, y + depth + size], **kwargs)\n",
    "    if 7 in edges:\n",
    "        ax.plot([x + size, x + size + depth],\n",
    "                [y, y + depth], **kwargs)\n",
    "    if 8 in edges:\n",
    "        ax.plot([x, x + depth],\n",
    "                [y, y + depth], **kwargs)\n",
    "\n",
    "    if 9 in edges:\n",
    "        ax.plot([x + depth, x + depth + size],\n",
    "                [y + depth + size, y + depth + size], **kwargs)\n",
    "    if 10 in edges:\n",
    "        ax.plot([x + depth + size, x + depth + size],\n",
    "                [y + depth, y + depth + size], **kwargs)\n",
    "    if 11 in edges:\n",
    "        ax.plot([x + depth, x + depth + size],\n",
    "                [y + depth, y + depth], **kwargs)\n",
    "    if 12 in edges:\n",
    "        ax.plot([x + depth, x + depth],\n",
    "                [y + depth, y + depth + size], **kwargs)\n",
    "\n",
    "    if label:\n",
    "        if label_kwargs is None:\n",
    "            label_kwargs = {}\n",
    "        ax.text(x + 0.5 * size, y + 0.5 * size, label,\n",
    "                ha='center', va='center', **label_kwargs)\n",
    "\n",
    "solid = dict(c='black', ls='-', lw=1,\n",
    "             label_kwargs=dict(color='k'))\n",
    "dotted = dict(c='black', ls='-', lw=0.5, alpha=0.5,\n",
    "              label_kwargs=dict(color='gray'))\n",
    "depth = 0.3\n",
    "\n",
    "# Draw a figure and axis with no boundary\n",
    "fig = plt.figure(figsize=(5, 1), facecolor='w')\n",
    "ax = plt.axes([0, 0, 1, 1], xticks=[], yticks=[], frameon=False)\n",
    "\n",
    "# first block\n",
    "draw_cube(ax, (1, 7.5), 1, depth, [1, 2, 3, 4, 5, 6, 9], '1', **solid)\n",
    "draw_cube(ax, (2, 7.5), 1, depth, [1, 2, 3, 6, 9], '2', **solid)\n",
    "draw_cube(ax, (3, 7.5), 1, depth, [1, 2, 3, 6, 7, 9, 10], '3', **solid)\n",
    "\n",
    "draw_cube(ax, (1, 6.5), 1, depth, [2, 3, 4], '4', **solid)\n",
    "draw_cube(ax, (2, 6.5), 1, depth, [2, 3], '5', **solid)\n",
    "draw_cube(ax, (3, 6.5), 1, depth, [2, 3, 7, 10], '6', **solid)\n",
    "\n",
    "draw_cube(ax, (1, 5.5), 1, depth, [2, 3, 4], '7', **solid)\n",
    "draw_cube(ax, (2, 5.5), 1, depth, [2, 3], '8', **solid)\n",
    "draw_cube(ax, (3, 5.5), 1, depth, [2, 3, 7, 10], '9', **solid)\n",
    "\n",
    "# second block\n",
    "draw_cube(ax, (6, 7.5), 1, depth, [1, 2, 3, 4, 5, 6, 9], '3', **solid)\n",
    "draw_cube(ax, (7, 7.5), 1, depth, [1, 2, 3, 6, 9], '6', **solid)\n",
    "draw_cube(ax, (8, 7.5), 1, depth, [1, 2, 3, 6, 7, 9, 10], '9', **solid)\n",
    "\n",
    "draw_cube(ax, (6, 6.5), 1, depth, range(2, 13), '3', **dotted)\n",
    "draw_cube(ax, (7, 6.5), 1, depth, [2, 3, 6, 7, 9, 10, 11], '6', **dotted)\n",
    "draw_cube(ax, (8, 6.5), 1, depth, [2, 3, 6, 7, 9, 10, 11], '9', **dotted)\n",
    "\n",
    "draw_cube(ax, (6, 5.5), 1, depth, [2, 3, 4, 7, 8, 10, 11, 12], '3', **dotted)\n",
    "draw_cube(ax, (7, 5.5), 1, depth, [2, 3, 7, 10, 11], '6', **dotted)\n",
    "draw_cube(ax, (8, 5.5), 1, depth, [2, 3, 7, 10, 11], '9', **dotted)\n",
    "\n",
    "# third block\n",
    "draw_cube(ax, (12, 7.5), 1, depth, [1, 2, 3, 4, 5, 6, 9], '4', **solid)\n",
    "draw_cube(ax, (13, 7.5), 1, depth, [1, 2, 3, 6, 9], '8', **solid)\n",
    "draw_cube(ax, (14, 7.5), 1, depth, [1, 2, 3, 6, 7, 9, 10], '12', **solid)\n",
    "\n",
    "draw_cube(ax, (12, 6.5), 1, depth, [2, 3, 4], '7', **solid)\n",
    "draw_cube(ax, (13, 6.5), 1, depth, [2, 3], '11', **solid)\n",
    "draw_cube(ax, (14, 6.5), 1, depth, [2, 3, 7, 10], '15', **solid)\n",
    "\n",
    "draw_cube(ax, (12, 5.5), 1, depth, [2, 3, 4], '10', **solid)\n",
    "draw_cube(ax, (13, 5.5), 1, depth, [2, 3], '14', **solid)\n",
    "draw_cube(ax, (14, 5.5), 1, depth, [2, 3, 7, 10], '18', **solid)\n",
    "\n",
    "ax.text(5, 7.0, '+', size=12, ha='center', va='center')\n",
    "ax.text(10.5, 7.0, '=', size=12, ha='center', va='center');"
   ]
  },
  {
   "cell_type": "markdown",
   "id": "6b576a21",
   "metadata": {},
   "source": [
    "How about `b -> (3, 1)`?\n",
    "\n",
    "In this case, NumPy will automatically expand `b -> (3, 1)` to `b -> (3, 3)`.\n",
    "\n",
    "Element-wise addition will then result in a $ 3 \\times 3 $ matrix"
   ]
  },
  {
   "cell_type": "code",
   "execution_count": 68,
   "id": "deed23c2",
   "metadata": {
    "hide-output": false
   },
   "outputs": [
    {
     "data": {
      "text/plain": [
       "array([[ 4,  5,  6],\n",
       "       [10, 11, 12],\n",
       "       [16, 17, 18]])"
      ]
     },
     "execution_count": 68,
     "metadata": {},
     "output_type": "execute_result"
    }
   ],
   "source": [
    "b.shape = (3, 1)\n",
    "\n",
    "a + b"
   ]
  },
  {
   "cell_type": "markdown",
   "id": "9d027c49",
   "metadata": {},
   "source": [
    "Here is a visual representation of this broadcasting operation:"
   ]
  },
  {
   "cell_type": "code",
   "execution_count": 69,
   "id": "7b999051",
   "metadata": {
    "hide-output": false
   },
   "outputs": [
    {
     "data": {
      "image/png": "[encoded data removed]",
      "text/plain": [
       "<Figure size 500x100 with 1 Axes>"
      ]
     },
     "metadata": {},
     "output_type": "display_data"
    }
   ],
   "source": [
    "fig = plt.figure(figsize=(5, 1), facecolor='w')\n",
    "ax = plt.axes([0, 0, 1, 1], xticks=[], yticks=[], frameon=False)\n",
    "\n",
    "# first block\n",
    "draw_cube(ax, (1, 7.5), 1, depth, [1, 2, 3, 4, 5, 6, 9], '1', **solid)\n",
    "draw_cube(ax, (2, 7.5), 1, depth, [1, 2, 3, 6, 9], '2', **solid)\n",
    "draw_cube(ax, (3, 7.5), 1, depth, [1, 2, 3, 6, 7, 9, 10], '3', **solid)\n",
    "\n",
    "draw_cube(ax, (1, 6.5), 1, depth, [2, 3, 4], '4', **solid)\n",
    "draw_cube(ax, (2, 6.5), 1, depth, [2, 3], '5', **solid)\n",
    "draw_cube(ax, (3, 6.5), 1, depth, [2, 3, 7, 10], '6', **solid)\n",
    "\n",
    "draw_cube(ax, (1, 5.5), 1, depth, [2, 3, 4], '7', **solid)\n",
    "draw_cube(ax, (2, 5.5), 1, depth, [2, 3], '8', **solid)\n",
    "draw_cube(ax, (3, 5.5), 1, depth, [2, 3, 7, 10], '9', **solid)\n",
    "\n",
    "# second block\n",
    "draw_cube(ax, (6, 7.5), 1, depth, [1, 2, 3, 4, 5, 6, 7, 9, 10], '3', **solid)\n",
    "draw_cube(ax, (7, 7.5), 1, depth, [1, 2, 3, 6, 7, 9, 10], '3', **dotted)\n",
    "draw_cube(ax, (8, 7.5), 1, depth, [1, 2, 3, 6, 7, 9, 10], '3', **dotted)\n",
    "\n",
    "draw_cube(ax, (6, 6.5), 1, depth, [2, 3, 4, 7, 10], '6', **solid)\n",
    "draw_cube(ax, (7, 6.5), 1, depth, [2, 3, 6, 7, 9, 10, 11], '6', **dotted)\n",
    "draw_cube(ax, (8, 6.5), 1, depth, [2, 3, 6, 7, 9, 10, 11], '6', **dotted)\n",
    "\n",
    "draw_cube(ax, (6, 5.5), 1, depth, [2, 3, 4, 7, 10], '9', **solid)\n",
    "draw_cube(ax, (7, 5.5), 1, depth, [2, 3, 7, 10, 11], '9', **dotted)\n",
    "draw_cube(ax, (8, 5.5), 1, depth, [2, 3, 7, 10, 11], '9', **dotted)\n",
    "\n",
    "# third block\n",
    "draw_cube(ax, (12, 7.5), 1, depth, [1, 2, 3, 4, 5, 6, 9], '4', **solid)\n",
    "draw_cube(ax, (13, 7.5), 1, depth, [1, 2, 3, 6, 9], '5', **solid)\n",
    "draw_cube(ax, (14, 7.5), 1, depth, [1, 2, 3, 6, 7, 9, 10], '6', **solid)\n",
    "\n",
    "draw_cube(ax, (12, 6.5), 1, depth, [2, 3, 4], '10', **solid)\n",
    "draw_cube(ax, (13, 6.5), 1, depth, [2, 3], '11', **solid)\n",
    "draw_cube(ax, (14, 6.5), 1, depth, [2, 3, 7, 10], '12', **solid)\n",
    "\n",
    "draw_cube(ax, (12, 5.5), 1, depth, [2, 3, 4], '16', **solid)\n",
    "draw_cube(ax, (13, 5.5), 1, depth, [2, 3], '17', **solid)\n",
    "draw_cube(ax, (14, 5.5), 1, depth, [2, 3, 7, 10], '18', **solid)\n",
    "\n",
    "ax.text(5, 7.0, '+', size=12, ha='center', va='center')\n",
    "ax.text(10.5, 7.0, '=', size=12, ha='center', va='center');"
   ]
  },
  {
   "cell_type": "markdown",
   "id": "89963100",
   "metadata": {},
   "source": [
    "The previous broadcasting operation is equivalent to the following `for` loop"
   ]
  },
  {
   "cell_type": "code",
   "execution_count": 70,
   "id": "6573e274",
   "metadata": {
    "hide-output": false
   },
   "outputs": [
    {
     "data": {
      "text/plain": [
       "array([[ 4.,  5.,  6.],\n",
       "       [10., 11., 12.],\n",
       "       [16., 17., 18.]])"
      ]
     },
     "execution_count": 70,
     "metadata": {},
     "output_type": "execute_result"
    }
   ],
   "source": [
    "row, column = a.shape\n",
    "result = np.empty((3, 3))\n",
    "for i in range(row):\n",
    "    for j in range(column):\n",
    "        result[i, j] = a[i, j] + b[i,0]\n",
    "\n",
    "result"
   ]
  },
  {
   "cell_type": "markdown",
   "id": "83871f3f",
   "metadata": {},
   "source": [
    "In some cases, both operands will be expanded.\n",
    "\n",
    "When we have `a -> (3,)` and `b -> (3, 1)`, `a` will be expanded to `a -> (3, 3)`, and `b` will be expanded to `b -> (3, 3)`.\n",
    "\n",
    "In this case, element-wise addition will result in a $ 3 \\times 3 $ matrix"
   ]
  },
  {
   "cell_type": "code",
   "execution_count": 71,
   "id": "2d824573",
   "metadata": {
    "hide-output": false
   },
   "outputs": [
    {
     "data": {
      "text/plain": [
       "array([[ 5,  8, 11],\n",
       "       [ 6,  9, 12],\n",
       "       [ 7, 10, 13]])"
      ]
     },
     "execution_count": 71,
     "metadata": {},
     "output_type": "execute_result"
    }
   ],
   "source": [
    "a = np.array([3, 6, 9])\n",
    "b = np.array([2, 3, 4])\n",
    "b.shape = (3, 1)\n",
    "\n",
    "a + b"
   ]
  },
  {
   "cell_type": "markdown",
   "id": "e4c4e590",
   "metadata": {},
   "source": [
    "Here is a visual representation of this broadcasting operation:"
   ]
  },
  {
   "cell_type": "code",
   "execution_count": 72,
   "id": "a4c13bef",
   "metadata": {
    "hide-output": false
   },
   "outputs": [
    {
     "data": {
      "image/png": "[encoded data removed]",
      "text/plain": [
       "<Figure size 500x100 with 1 Axes>"
      ]
     },
     "metadata": {},
     "output_type": "display_data"
    }
   ],
   "source": [
    "# Draw a figure and axis with no boundary\n",
    "fig = plt.figure(figsize=(5, 1), facecolor='w')\n",
    "ax = plt.axes([0, 0, 1, 1], xticks=[], yticks=[], frameon=False)\n",
    "\n",
    "# first block\n",
    "draw_cube(ax, (1, 7.5), 1, depth, [1, 2, 3, 4, 5, 6, 9], '3', **solid)\n",
    "draw_cube(ax, (2, 7.5), 1, depth, [1, 2, 3, 6, 9], '6', **solid)\n",
    "draw_cube(ax, (3, 7.5), 1, depth, [1, 2, 3, 6, 7, 9, 10], '9', **solid)\n",
    "\n",
    "draw_cube(ax, (1, 6.5), 1, depth, range(2, 13), '3', **dotted)\n",
    "draw_cube(ax, (2, 6.5), 1, depth, [2, 3, 6, 7, 9, 10, 11], '6', **dotted)\n",
    "draw_cube(ax, (3, 6.5), 1, depth, [2, 3, 6, 7, 9, 10, 11], '9', **dotted)\n",
    "\n",
    "draw_cube(ax, (1, 5.5), 1, depth, [2, 3, 4, 7, 8, 10, 11, 12], '3', **dotted)\n",
    "draw_cube(ax, (2, 5.5), 1, depth, [2, 3, 7, 10, 11], '6', **dotted)\n",
    "draw_cube(ax, (3, 5.5), 1, depth, [2, 3, 7, 10, 11], '9', **dotted)\n",
    "\n",
    "# second block\n",
    "draw_cube(ax, (6, 7.5), 1, depth, [1, 2, 3, 4, 5, 6, 7, 9, 10], '2', **solid)\n",
    "draw_cube(ax, (7, 7.5), 1, depth, [1, 2, 3, 6, 7, 9, 10], '2', **dotted)\n",
    "draw_cube(ax, (8, 7.5), 1, depth, [1, 2, 3, 6, 7, 9, 10], '2', **dotted)\n",
    "\n",
    "draw_cube(ax, (6, 6.5), 1, depth, [2, 3, 4, 7, 10], '3', **solid)\n",
    "draw_cube(ax, (7, 6.5), 1, depth, [2, 3, 6, 7, 9, 10, 11], '3', **dotted)\n",
    "draw_cube(ax, (8, 6.5), 1, depth, [2, 3, 6, 7, 9, 10, 11], '3', **dotted)\n",
    "\n",
    "draw_cube(ax, (6, 5.5), 1, depth, [2, 3, 4, 7, 10], '4', **solid)\n",
    "draw_cube(ax, (7, 5.5), 1, depth, [2, 3, 7, 10, 11], '4', **dotted)\n",
    "draw_cube(ax, (8, 5.5), 1, depth, [2, 3, 7, 10, 11], '4', **dotted)\n",
    "\n",
    "# third block\n",
    "draw_cube(ax, (12, 7.5), 1, depth, [1, 2, 3, 4, 5, 6, 9], '5', **solid)\n",
    "draw_cube(ax, (13, 7.5), 1, depth, [1, 2, 3, 6, 9], '8', **solid)\n",
    "draw_cube(ax, (14, 7.5), 1, depth, [1, 2, 3, 6, 7, 9, 10], '11', **solid)\n",
    "\n",
    "draw_cube(ax, (12, 6.5), 1, depth, [2, 3, 4], '6', **solid)\n",
    "draw_cube(ax, (13, 6.5), 1, depth, [2, 3], '9', **solid)\n",
    "draw_cube(ax, (14, 6.5), 1, depth, [2, 3, 7, 10], '12', **solid)\n",
    "\n",
    "draw_cube(ax, (12, 5.5), 1, depth, [2, 3, 4], '7', **solid)\n",
    "draw_cube(ax, (13, 5.5), 1, depth, [2, 3], '10', **solid)\n",
    "draw_cube(ax, (14, 5.5), 1, depth, [2, 3, 7, 10], '13', **solid)\n",
    "\n",
    "ax.text(5, 7.0, '+', size=12, ha='center', va='center')\n",
    "ax.text(10.5, 7.0, '=', size=12, ha='center', va='center');"
   ]
  },
  {
   "cell_type": "markdown",
   "id": "af36b4ed",
   "metadata": {},
   "source": [
    "While broadcasting is very useful, it can sometimes seem confusing.\n",
    "\n",
    "For example, let us try adding `a -> (3, 2)` and `b -> (3,)`."
   ]
  },
  {
   "cell_type": "code",
   "execution_count": 73,
   "id": "8bbc277e",
   "metadata": {
    "hide-output": false
   },
   "outputs": [
    {
     "ename": "ValueError",
     "evalue": "operands could not be broadcast together with shapes (3,2) (3,) ",
     "output_type": "error",
     "traceback": [
      "\u001b[0;31m---------------------------------------------------------------------------\u001b[0m",
      "\u001b[0;31mValueError\u001b[0m                                Traceback (most recent call last)",
      "Cell \u001b[0;32mIn[73], line 7\u001b[0m\n\u001b[1;32m      1\u001b[0m a \u001b[38;5;241m=\u001b[39m np\u001b[38;5;241m.\u001b[39marray(\n\u001b[1;32m      2\u001b[0m       [[\u001b[38;5;241m1\u001b[39m, \u001b[38;5;241m2\u001b[39m],\n\u001b[1;32m      3\u001b[0m        [\u001b[38;5;241m4\u001b[39m, \u001b[38;5;241m5\u001b[39m],\n\u001b[1;32m      4\u001b[0m        [\u001b[38;5;241m7\u001b[39m, \u001b[38;5;241m8\u001b[39m]])\n\u001b[1;32m      5\u001b[0m b \u001b[38;5;241m=\u001b[39m np\u001b[38;5;241m.\u001b[39marray([\u001b[38;5;241m3\u001b[39m, \u001b[38;5;241m6\u001b[39m, \u001b[38;5;241m9\u001b[39m])\n\u001b[0;32m----> 7\u001b[0m a \u001b[38;5;241m+\u001b[39m b\n",
      "\u001b[0;31mValueError\u001b[0m: operands could not be broadcast together with shapes (3,2) (3,) "
     ]
    }
   ],
   "source": [
    "a = np.array(\n",
    "      [[1, 2],\n",
    "       [4, 5],\n",
    "       [7, 8]])\n",
    "b = np.array([3, 6, 9])\n",
    "\n",
    "a + b"
   ]
  },
  {
   "cell_type": "markdown",
   "id": "8830ec85",
   "metadata": {},
   "source": [
    "The `ValueError` tells us that operands could not be broadcast together.\n",
    "\n",
    "Here is a visual representation to show why this broadcasting cannot be executed:"
   ]
  },
  {
   "cell_type": "code",
   "execution_count": null,
   "id": "77382691",
   "metadata": {
    "hide-output": false
   },
   "outputs": [],
   "source": [
    "# Draw a figure and axis with no boundary\n",
    "fig = plt.figure(figsize=(3, 1.3), facecolor='w')\n",
    "ax = plt.axes([0, 0, 1, 1], xticks=[], yticks=[], frameon=False)\n",
    "\n",
    "# first block\n",
    "draw_cube(ax, (1, 7.5), 1, depth, [1, 2, 3, 4, 5, 6, 9], '1', **solid)\n",
    "draw_cube(ax, (2, 7.5), 1, depth, [1, 2, 3, 6, 7, 9, 10], '2', **solid)\n",
    "\n",
    "draw_cube(ax, (1, 6.5), 1, depth, [2, 3, 4], '4', **solid)\n",
    "draw_cube(ax, (2, 6.5), 1, depth, [2, 3, 7, 10], '5', **solid)\n",
    "\n",
    "draw_cube(ax, (1, 5.5), 1, depth, [2, 3, 4], '7', **solid)\n",
    "draw_cube(ax, (2, 5.5), 1, depth, [2, 3, 7, 10], '8', **solid)\n",
    "\n",
    "# second block\n",
    "draw_cube(ax, (6, 7.5), 1, depth, [1, 2, 3, 4, 5, 6, 9], '3', **solid)\n",
    "draw_cube(ax, (7, 7.5), 1, depth, [1, 2, 3, 6, 9], '6', **solid)\n",
    "draw_cube(ax, (8, 7.5), 1, depth, [1, 2, 3, 6, 7, 9, 10], '9', **solid)\n",
    "\n",
    "draw_cube(ax, (6, 6.5), 1, depth, range(2, 13), '3', **dotted)\n",
    "draw_cube(ax, (7, 6.5), 1, depth, [2, 3, 6, 7, 9, 10, 11], '6', **dotted)\n",
    "draw_cube(ax, (8, 6.5), 1, depth, [2, 3, 6, 7, 9, 10, 11], '9', **dotted)\n",
    "\n",
    "draw_cube(ax, (6, 5.5), 1, depth, [2, 3, 4, 7, 8, 10, 11, 12], '3', **dotted)\n",
    "draw_cube(ax, (7, 5.5), 1, depth, [2, 3, 7, 10, 11], '6', **dotted)\n",
    "draw_cube(ax, (8, 5.5), 1, depth, [2, 3, 7, 10, 11], '9', **dotted)\n",
    "\n",
    "\n",
    "ax.text(4.5, 7.0, '+', size=12, ha='center', va='center')\n",
    "ax.text(10, 7.0, '=', size=12, ha='center', va='center')\n",
    "ax.text(11, 7.0, '?', size=16, ha='center', va='center');"
   ]
  },
  {
   "cell_type": "markdown",
   "id": "f05dc694",
   "metadata": {},
   "source": [
    "We can see that NumPy cannot expand the arrays to the same size.\n",
    "\n",
    "It is because, when `b` is expanded from `b -> (3,)` to `b -> (3, 3)`, NumPy cannot match `b` with `a -> (3, 2)`.\n",
    "\n",
    "Things get even trickier when we move to higher dimensions.\n",
    "\n",
    "To help us, we can use the following list of rules:\n",
    "\n",
    "- *Step 1:* When the dimensions of two arrays do not match, NumPy will expand the one with fewer dimensions by adding dimension(s) *on the left of the existing dimensions*.\n",
    "  - For example, if `a -> (3, 3)` and `b -> (3,)`, then broadcasting will add a dimension to the left so that `b -> (1, 3)`;\n",
    "  - If `a -> (2, 2, 2)` and `b -> (2, 2)`, then broadcasting will add a dimension to the left so that `b -> (1, 2, 2)`;\n",
    "  - If `a -> (3, 2, 2)` and `b -> (2,)`, then broadcasting will add two dimensions to the left so that `b -> (1, 1, 2)` (you can also see this process as going through *Step 1* twice).\n",
    "- *Step 2:* When the two arrays have the same dimension but different shapes, NumPy will try to expand dimensions where the shape index is 1.\n",
    "  - For example, if `a -> (1, 3)` and `b -> (3, 1)`, then broadcasting will expand dimensions with shape 1 in both `a` and `b` so that `a -> (3, 3)` and `b -> (3, 3)`;\n",
    "  - If `a -> (2, 2, 2)` and  `b -> (1, 2, 2)`, then broadcasting will expand the first dimension of `b` so that `b -> (2, 2, 2)`;\n",
    "  - If `a -> (3, 2, 2)` and `b -> (1, 1, 2)`, then broadcasting will expand `b` on all dimensions with shape 1 so that `b -> (3, 2, 2)`.\n",
    "\n",
    "\n",
    "Here are code examples for broadcasting higher dimensional arrays"
   ]
  },
  {
   "cell_type": "code",
   "execution_count": null,
   "id": "f3c0e7e6",
   "metadata": {
    "hide-output": false
   },
   "outputs": [],
   "source": [
    "# a -> (2, 2, 2) and  b -> (1, 2, 2)\n",
    "\n",
    "a = np.array(\n",
    "    [[[1, 2], \n",
    "      [2, 3]], \n",
    "\n",
    "     [[2, 3], \n",
    "      [3, 4]]])\n",
    "print(f'the shape of array a is {a.shape}')\n",
    "\n",
    "b = np.array(\n",
    "    [[1,7],\n",
    "     [7,1]])\n",
    "print(f'the shape of array b is {b.shape}')\n",
    "\n",
    "a + b"
   ]
  },
  {
   "cell_type": "code",
   "execution_count": null,
   "id": "3f88a7b4",
   "metadata": {
    "hide-output": false
   },
   "outputs": [],
   "source": [
    "# a -> (3, 2, 2) and b -> (2,)\n",
    "\n",
    "a = np.array(\n",
    "    [[[1, 2], \n",
    "      [3, 4]],\n",
    "\n",
    "     [[4, 5], \n",
    "      [6, 7]],\n",
    "\n",
    "     [[7, 8], \n",
    "      [9, 10]]])\n",
    "print(f'the shape of array a is {a.shape}')\n",
    "\n",
    "b = np.array([3, 6])\n",
    "print(f'the shape of array b is {b.shape}')\n",
    "\n",
    "a + b"
   ]
  },
  {
   "cell_type": "markdown",
   "id": "7dc770d8",
   "metadata": {},
   "source": [
    "- *Step 3:* After Step 1 and 2, if the two arrays still do not match, a `ValueError` will be raised. For example, suppose `a -> (2, 2, 3)` and `b -> (2, 2)`\n",
    "  - By *Step 1*, `b` will be expanded to `b -> (1, 2, 2)`;\n",
    "  - By *Step 2*, `b` will be expanded to `b -> (2, 2, 2)`;  \n",
    "  - We can see that they do not match each other after the first two steps. Thus, a `ValueError` will be raised"
   ]
  },
  {
   "cell_type": "code",
   "execution_count": null,
   "id": "6042595a",
   "metadata": {
    "hide-output": false
   },
   "outputs": [],
   "source": [
    "a = np.array(\n",
    "    [[[1, 2, 3], \n",
    "      [2, 3, 4]], \n",
    "     \n",
    "     [[2, 3, 4], \n",
    "      [3, 4, 5]]])\n",
    "print(f'the shape of array a is {a.shape}')\n",
    "\n",
    "b = np.array(\n",
    "    [[1,7], \n",
    "     [7,1]])\n",
    "print(f'the shape of array b is {b.shape}')\n",
    "\n",
    "a + b"
   ]
  },
  {
   "cell_type": "markdown",
   "id": "199c5afe",
   "metadata": {},
   "source": [
    "## Mutability and Copying Arrays\n",
    "\n",
    "NumPy arrays are mutable data types, like Python lists.\n",
    "\n",
    "In other words, *their contents can be altered (mutated) in memory after initialisation.*\n",
    "\n",
    "We already saw examples above.\n",
    "\n",
    "Here is another example:"
   ]
  },
  {
   "cell_type": "code",
   "execution_count": null,
   "id": "dac1d992",
   "metadata": {
    "hide-output": false
   },
   "outputs": [],
   "source": [
    "a = np.array([42, 44])\n",
    "a"
   ]
  },
  {
   "cell_type": "code",
   "execution_count": null,
   "id": "ff825f3f-5ba5-4d8d-b15a-9f89e8003e7f",
   "metadata": {},
   "outputs": [],
   "source": [
    "a.shape"
   ]
  },
  {
   "cell_type": "code",
   "execution_count": null,
   "id": "2b7ae860",
   "metadata": {
    "hide-output": false
   },
   "outputs": [],
   "source": [
    "a[-1] = 0  # Change last element to 0\n",
    "a"
   ]
  },
  {
   "cell_type": "markdown",
   "id": "8bfaed2a",
   "metadata": {},
   "source": [
    "Mutability leads to the following behaviour (which can be shocking to MATLAB programmers…)"
   ]
  },
  {
   "cell_type": "code",
   "execution_count": null,
   "id": "a6cda10c",
   "metadata": {
    "hide-output": false
   },
   "outputs": [],
   "source": [
    "a = np.random.randn(3)\n",
    "a"
   ]
  },
  {
   "cell_type": "code",
   "execution_count": null,
   "id": "11e06257",
   "metadata": {
    "hide-output": false
   },
   "outputs": [],
   "source": [
    "b = a # \"It means that we pass around only pointers to data, rather than making copies.\"\n",
    "b[0] = 0.0\n",
    "a"
   ]
  },
  {
   "cell_type": "markdown",
   "id": "5a8a22ab",
   "metadata": {},
   "source": [
    "*What has happened is that we have changed `a` by changing `b`.*\n",
    "\n",
    "The name `b` is bound to `a` and becomes just *another reference* to the\n",
    "array (the Python assignment model is described in more detail [later in the course](https://python-programming.quantecon.org/python_advanced_features.html)).\n",
    "\n",
    "Hence, it has equal rights to make changes to that array.\n",
    "\n",
    "This is in fact the most sensible default behaviour!\n",
    "\n",
    "It means that we pass around only pointers to data, rather than making copies.\n",
    "\n",
    "Making copies is expensive in terms of both speed and memory."
   ]
  },
  {
   "cell_type": "markdown",
   "id": "2ab6d5c7",
   "metadata": {},
   "source": [
    "### Making Copies\n",
    "\n",
    "It is of course possible to make `b` an independent copy of `a` when required.\n",
    "\n",
    "This can be done using `np.copy`"
   ]
  },
  {
   "cell_type": "code",
   "execution_count": 74,
   "id": "93c74778",
   "metadata": {
    "hide-output": false
   },
   "outputs": [
    {
     "data": {
      "text/plain": [
       "array([-0.4974919 , -0.39355327,  2.41359176])"
      ]
     },
     "execution_count": 74,
     "metadata": {},
     "output_type": "execute_result"
    }
   ],
   "source": [
    "a = np.random.randn(3)\n",
    "a"
   ]
  },
  {
   "cell_type": "code",
   "execution_count": 75,
   "id": "3a81791a",
   "metadata": {
    "hide-output": false
   },
   "outputs": [
    {
     "data": {
      "text/plain": [
       "array([-0.4974919 , -0.39355327,  2.41359176])"
      ]
     },
     "execution_count": 75,
     "metadata": {},
     "output_type": "execute_result"
    }
   ],
   "source": [
    "b = np.copy(a)\n",
    "b"
   ]
  },
  {
   "cell_type": "markdown",
   "id": "3f335958",
   "metadata": {},
   "source": [
    "Now `b` is an independent copy (called a *deep copy*)"
   ]
  },
  {
   "cell_type": "code",
   "execution_count": 76,
   "id": "80535587",
   "metadata": {
    "hide-output": false
   },
   "outputs": [
    {
     "data": {
      "text/plain": [
       "array([1., 1., 1.])"
      ]
     },
     "execution_count": 76,
     "metadata": {},
     "output_type": "execute_result"
    }
   ],
   "source": [
    "b[:] = 1\n",
    "b"
   ]
  },
  {
   "cell_type": "code",
   "execution_count": 77,
   "id": "ad1471a5",
   "metadata": {
    "hide-output": false
   },
   "outputs": [
    {
     "data": {
      "text/plain": [
       "array([-0.4974919 , -0.39355327,  2.41359176])"
      ]
     },
     "execution_count": 77,
     "metadata": {},
     "output_type": "execute_result"
    }
   ],
   "source": [
    "a"
   ]
  },
  {
   "cell_type": "markdown",
   "id": "525e093c",
   "metadata": {},
   "source": [
    "Note that the change to `b` has not affected `a`."
   ]
  },
  {
   "cell_type": "markdown",
   "id": "8f64bab0",
   "metadata": {},
   "source": [
    "## Additional Functionality\n",
    "\n",
    "Let us look at some other useful things we can do with NumPy."
   ]
  },
  {
   "cell_type": "markdown",
   "id": "c3dec1bd",
   "metadata": {},
   "source": [
    "### Vectorised Functions\n",
    "\n",
    "\n",
    "<a id='index-11'></a>\n",
    "NumPy provides versions of the standard functions `log`, `exp`, `sin`, etc. that act *element-wise* on arrays"
   ]
  },
  {
   "cell_type": "code",
   "execution_count": 78,
   "id": "707bba73",
   "metadata": {
    "hide-output": false
   },
   "outputs": [
    {
     "data": {
      "text/plain": [
       "array([0.84147098, 0.90929743, 0.14112001])"
      ]
     },
     "execution_count": 78,
     "metadata": {},
     "output_type": "execute_result"
    }
   ],
   "source": [
    "z = np.array([1, 2, 3])\n",
    "np.sin(z)"
   ]
  },
  {
   "cell_type": "markdown",
   "id": "4a3172b9",
   "metadata": {},
   "source": [
    "This eliminates the need for explicit element-by-element loops such as"
   ]
  },
  {
   "cell_type": "code",
   "execution_count": 79,
   "id": "ca1fe881",
   "metadata": {
    "hide-output": false
   },
   "outputs": [
    {
     "data": {
      "text/plain": [
       "array([0.84147098, 0.90929743, 0.14112001])"
      ]
     },
     "execution_count": 79,
     "metadata": {},
     "output_type": "execute_result"
    }
   ],
   "source": [
    "n = len(z)\n",
    "y = np.empty(n)\n",
    "for i in range(n):\n",
    "    y[i] = np.sin(z[i])\n",
    "y"
   ]
  },
  {
   "cell_type": "markdown",
   "id": "e76ffc43",
   "metadata": {},
   "source": [
    "Because they act element-wise on arrays, these functions are called *vectorised functions*.\n",
    "\n",
    "In NumPy-speak, they are also called *ufuncs*, which stands for “universal functions”.\n",
    "\n",
    "As we saw above, the usual arithmetic operations (`+`, `*`, etc.) also work element-wise, and combining these with the ufuncs gives a very large set of fast element-wise functions."
   ]
  },
  {
   "cell_type": "code",
   "execution_count": 80,
   "id": "7718e4b4",
   "metadata": {
    "hide-output": false
   },
   "outputs": [
    {
     "data": {
      "text/plain": [
       "array([1, 2, 3])"
      ]
     },
     "execution_count": 80,
     "metadata": {},
     "output_type": "execute_result"
    }
   ],
   "source": [
    "z"
   ]
  },
  {
   "cell_type": "code",
   "execution_count": 81,
   "id": "b450bfc6",
   "metadata": {
    "hide-output": false
   },
   "outputs": [
    {
     "data": {
      "text/plain": [
       "array([0.24197072, 0.05399097, 0.00443185])"
      ]
     },
     "execution_count": 81,
     "metadata": {},
     "output_type": "execute_result"
    }
   ],
   "source": [
    "(1 / np.sqrt(2 * np.pi)) * np.exp(- 0.5 * z**2)"
   ]
  },
  {
   "cell_type": "markdown",
   "id": "90774bf3",
   "metadata": {},
   "source": [
    "Not all user-defined functions will act element-wise.\n",
    "\n",
    "For example, passing the function `f` defined below a NumPy array causes a `ValueError`"
   ]
  },
  {
   "cell_type": "code",
   "execution_count": 82,
   "id": "048ead42",
   "metadata": {
    "hide-output": false
   },
   "outputs": [
    {
     "ename": "ValueError",
     "evalue": "The truth value of an array with more than one element is ambiguous. Use a.any() or a.all()",
     "output_type": "error",
     "traceback": [
      "\u001b[0;31m---------------------------------------------------------------------------\u001b[0m",
      "\u001b[0;31mValueError\u001b[0m                                Traceback (most recent call last)",
      "Cell \u001b[0;32mIn[82], line 4\u001b[0m\n\u001b[1;32m      1\u001b[0m \u001b[38;5;28;01mdef\u001b[39;00m \u001b[38;5;21mf\u001b[39m(x):\n\u001b[1;32m      2\u001b[0m     \u001b[38;5;28;01mreturn\u001b[39;00m \u001b[38;5;241m1\u001b[39m \u001b[38;5;28;01mif\u001b[39;00m x \u001b[38;5;241m>\u001b[39m \u001b[38;5;241m0\u001b[39m \u001b[38;5;28;01melse\u001b[39;00m \u001b[38;5;241m0\u001b[39m\n\u001b[0;32m----> 4\u001b[0m f(z)\n",
      "Cell \u001b[0;32mIn[82], line 2\u001b[0m, in \u001b[0;36mf\u001b[0;34m(x)\u001b[0m\n\u001b[1;32m      1\u001b[0m \u001b[38;5;28;01mdef\u001b[39;00m \u001b[38;5;21mf\u001b[39m(x):\n\u001b[0;32m----> 2\u001b[0m     \u001b[38;5;28;01mreturn\u001b[39;00m \u001b[38;5;241m1\u001b[39m \u001b[38;5;28;01mif\u001b[39;00m x \u001b[38;5;241m>\u001b[39m \u001b[38;5;241m0\u001b[39m \u001b[38;5;28;01melse\u001b[39;00m \u001b[38;5;241m0\u001b[39m\n",
      "\u001b[0;31mValueError\u001b[0m: The truth value of an array with more than one element is ambiguous. Use a.any() or a.all()"
     ]
    }
   ],
   "source": [
    "def f(x):\n",
    "    return 1 if x > 0 else 0\n",
    "\n",
    "f(z)"
   ]
  },
  {
   "cell_type": "markdown",
   "id": "de9bf2a1",
   "metadata": {},
   "source": [
    "The NumPy function `np.where` provides a vectorised alternative:"
   ]
  },
  {
   "cell_type": "code",
   "execution_count": 83,
   "id": "f0be2c58",
   "metadata": {
    "hide-output": false
   },
   "outputs": [
    {
     "data": {
      "text/plain": [
       "array([-0.79310248,  1.10573679, -1.2158112 , -0.64416928])"
      ]
     },
     "execution_count": 83,
     "metadata": {},
     "output_type": "execute_result"
    }
   ],
   "source": [
    "x = np.random.randn(4)\n",
    "x"
   ]
  },
  {
   "cell_type": "code",
   "execution_count": 84,
   "id": "ee62ec81",
   "metadata": {
    "hide-output": false
   },
   "outputs": [
    {
     "data": {
      "text/plain": [
       "array([0, 1, 0, 0])"
      ]
     },
     "execution_count": 84,
     "metadata": {},
     "output_type": "execute_result"
    }
   ],
   "source": [
    "np.where(x > 0, 1, 0)  # Insert 1 if x > 0 true, otherwise 0"
   ]
  },
  {
   "cell_type": "markdown",
   "id": "92f91cfb",
   "metadata": {},
   "source": [
    "You can also use `np.vectorize` to vectorise a given function"
   ]
  },
  {
   "cell_type": "code",
   "execution_count": 85,
   "id": "f0ddc6fc",
   "metadata": {
    "hide-output": false
   },
   "outputs": [
    {
     "data": {
      "text/plain": [
       "array([0, 1, 0, 0])"
      ]
     },
     "execution_count": 85,
     "metadata": {},
     "output_type": "execute_result"
    }
   ],
   "source": [
    "f = np.vectorize(f)\n",
    "f(x)                # Passing the same vector x as in the previous example"
   ]
  },
  {
   "cell_type": "markdown",
   "id": "873847d0",
   "metadata": {},
   "source": [
    "However, this approach does not always obtain the same speed as a more carefully crafted vectorised function."
   ]
  },
  {
   "cell_type": "markdown",
   "id": "30fb2605",
   "metadata": {},
   "source": [
    "### Comparisons\n",
    "\n",
    "\n",
    "<a id='index-12'></a>\n",
    "As a rule, comparisons on arrays are done element-wise"
   ]
  },
  {
   "cell_type": "code",
   "execution_count": 86,
   "id": "36cfcaca",
   "metadata": {
    "hide-output": false
   },
   "outputs": [
    {
     "data": {
      "text/plain": [
       "array([ True,  True])"
      ]
     },
     "execution_count": 86,
     "metadata": {},
     "output_type": "execute_result"
    }
   ],
   "source": [
    "z = np.array([2, 3])\n",
    "y = np.array([2, 3])\n",
    "z == y"
   ]
  },
  {
   "cell_type": "code",
   "execution_count": 87,
   "id": "aa8171af",
   "metadata": {
    "hide-output": false
   },
   "outputs": [
    {
     "data": {
      "text/plain": [
       "array([False,  True])"
      ]
     },
     "execution_count": 87,
     "metadata": {},
     "output_type": "execute_result"
    }
   ],
   "source": [
    "y[0] = 5\n",
    "z == y"
   ]
  },
  {
   "cell_type": "code",
   "execution_count": 88,
   "id": "218d9e67",
   "metadata": {
    "hide-output": false
   },
   "outputs": [
    {
     "data": {
      "text/plain": [
       "array([ True, False])"
      ]
     },
     "execution_count": 88,
     "metadata": {},
     "output_type": "execute_result"
    }
   ],
   "source": [
    "z != y"
   ]
  },
  {
   "cell_type": "markdown",
   "id": "fabd425e",
   "metadata": {},
   "source": [
    "The situation is similar for `>`, `<`, `>=` and `<=`.\n",
    "\n",
    "We can also do comparisons against scalars"
   ]
  },
  {
   "cell_type": "code",
   "execution_count": 89,
   "id": "28831f47",
   "metadata": {
    "hide-output": false
   },
   "outputs": [
    {
     "data": {
      "text/plain": [
       "array([ 0. ,  2.5,  5. ,  7.5, 10. ])"
      ]
     },
     "execution_count": 89,
     "metadata": {},
     "output_type": "execute_result"
    }
   ],
   "source": [
    "z = np.linspace(0, 10, 5)\n",
    "z"
   ]
  },
  {
   "cell_type": "code",
   "execution_count": 90,
   "id": "db188553",
   "metadata": {
    "hide-output": false
   },
   "outputs": [
    {
     "data": {
      "text/plain": [
       "array([False, False,  True,  True,  True])"
      ]
     },
     "execution_count": 90,
     "metadata": {},
     "output_type": "execute_result"
    }
   ],
   "source": [
    "z > 3"
   ]
  },
  {
   "cell_type": "markdown",
   "id": "3cd5e792",
   "metadata": {},
   "source": [
    "This is particularly useful for *conditional extraction*"
   ]
  },
  {
   "cell_type": "code",
   "execution_count": 91,
   "id": "fdd67795",
   "metadata": {
    "hide-output": false
   },
   "outputs": [
    {
     "data": {
      "text/plain": [
       "array([False, False,  True,  True,  True])"
      ]
     },
     "execution_count": 91,
     "metadata": {},
     "output_type": "execute_result"
    }
   ],
   "source": [
    "b = z > 3\n",
    "b"
   ]
  },
  {
   "cell_type": "code",
   "execution_count": 93,
   "id": "3ef9c33d",
   "metadata": {
    "hide-output": false
   },
   "outputs": [
    {
     "data": {
      "text/plain": [
       "array([ 5. ,  7.5, 10. ])"
      ]
     },
     "execution_count": 93,
     "metadata": {},
     "output_type": "execute_result"
    }
   ],
   "source": [
    "z[b]"
   ]
  },
  {
   "cell_type": "code",
   "execution_count": null,
   "id": "7e6898fb-095a-41d3-baa7-17afa3599a07",
   "metadata": {},
   "outputs": [],
   "source": []
  },
  {
   "cell_type": "markdown",
   "id": "548cfc15",
   "metadata": {},
   "source": [
    "Of course we can—and frequently do—perform this in one step"
   ]
  },
  {
   "cell_type": "code",
   "execution_count": 94,
   "id": "e85ddc4a",
   "metadata": {
    "hide-output": false
   },
   "outputs": [
    {
     "data": {
      "text/plain": [
       "array([ 5. ,  7.5, 10. ])"
      ]
     },
     "execution_count": 94,
     "metadata": {},
     "output_type": "execute_result"
    }
   ],
   "source": [
    "z[z > 3]"
   ]
  },
  {
   "cell_type": "markdown",
   "id": "f444a5d8",
   "metadata": {},
   "source": [
    "### Sub-packages\n",
    "\n",
    "NumPy provides some additional functionality related to scientific programming through its sub-packages.\n",
    "\n",
    "We have already seen how we can generate random variables using np.random"
   ]
  },
  {
   "cell_type": "code",
   "execution_count": 97,
   "id": "04b19eb6",
   "metadata": {
    "hide-output": false
   },
   "outputs": [
    {
     "data": {
      "text/plain": [
       "5.047"
      ]
     },
     "execution_count": 97,
     "metadata": {},
     "output_type": "execute_result"
    }
   ],
   "source": [
    "z = np.random.randn(10000)  # Generate standard normals\n",
    "y = np.random.binomial(10, 0.5, size=1000)    # 1,000 draws from Bin(10, 0.5)\n",
    "y.mean()"
   ]
  },
  {
   "cell_type": "markdown",
   "id": "25899049",
   "metadata": {},
   "source": [
    "Another commonly used subpackage is np.linalg"
   ]
  },
  {
   "cell_type": "code",
   "execution_count": 99,
   "id": "afd48d7f",
   "metadata": {
    "hide-output": false
   },
   "outputs": [
    {
     "data": {
      "text/plain": [
       "-2.0000000000000004"
      ]
     },
     "execution_count": 99,
     "metadata": {},
     "output_type": "execute_result"
    }
   ],
   "source": [
    "A = np.array([[1, 2], [3, 4]])\n",
    "\n",
    "np.linalg.det(A)           # Compute the determinant"
   ]
  },
  {
   "cell_type": "code",
   "execution_count": 100,
   "id": "c6e25f3a",
   "metadata": {
    "hide-output": false
   },
   "outputs": [
    {
     "data": {
      "text/plain": [
       "array([[-2. ,  1. ],\n",
       "       [ 1.5, -0.5]])"
      ]
     },
     "execution_count": 100,
     "metadata": {},
     "output_type": "execute_result"
    }
   ],
   "source": [
    "np.linalg.inv(A)           # Compute the inverse"
   ]
  },
  {
   "cell_type": "markdown",
   "id": "26489a87",
   "metadata": {},
   "source": [
    "<a id='index-13'></a>\n",
    "\n",
    "<a id='index-14'></a>\n",
    "Much of this functionality is also available in [SciPy](http://www.scipy.org/), a collection of modules that are built on top of NumPy.\n",
    "\n",
    "We will cover the SciPy versions in more detail [soon](https://python-programming.quantecon.org/scipy.html).\n",
    "\n",
    "For a comprehensive list of what is available in NumPy see [this documentation](https://docs.scipy.org/doc/numpy/reference/routines.html)."
   ]
  },
  {
   "cell_type": "markdown",
   "id": "57ee1ac2",
   "metadata": {},
   "source": [
    "## Speed Comparisons\n",
    "\n",
    "\n",
    "<a id='index-15'></a>\n",
    "We mentioned in an [previous lecture](https://python-programming.quantecon.org/need_for_speed.html) that NumPy-based vectorisation can accelerate scientific applications.\n",
    "\n",
    "In this section we try some speed comparisons to illustrate this fact."
   ]
  },
  {
   "cell_type": "markdown",
   "id": "db56521e",
   "metadata": {},
   "source": [
    "### Vectorisation vs Loops\n",
    "\n",
    "Let us begin with some non-vectorised code, which uses a native Python loop to generate,\n",
    "square and then sum a large number of random variables:"
   ]
  },
  {
   "cell_type": "code",
   "execution_count": null,
   "id": "71982556",
   "metadata": {
    "hide-output": false
   },
   "outputs": [],
   "source": [
    "n = 1_000_000"
   ]
  },
  {
   "cell_type": "code",
   "execution_count": null,
   "id": "61da8444",
   "metadata": {
    "hide-output": false
   },
   "outputs": [],
   "source": [
    "%%time\n",
    "\n",
    "y = 0      # Will accumulate and store sum\n",
    "for i in range(n):\n",
    "    x = random.uniform(0, 1)\n",
    "    y += x**2"
   ]
  },
  {
   "cell_type": "markdown",
   "id": "3306076a",
   "metadata": {},
   "source": [
    "The following vectorised code achieves the same thing."
   ]
  },
  {
   "cell_type": "code",
   "execution_count": null,
   "id": "ae46f465",
   "metadata": {
    "hide-output": false
   },
   "outputs": [],
   "source": [
    "%%time\n",
    "\n",
    "x = np.random.uniform(0, 1, n)\n",
    "y = np.sum(x**2)"
   ]
  },
  {
   "cell_type": "markdown",
   "id": "507e7484",
   "metadata": {},
   "source": [
    "As you can see, the second code block runs much faster.  Why?\n",
    "\n",
    "The second code block breaks the loop down into three basic operations\n",
    "\n",
    "1. draw `n` uniforms\n",
    "1. square them\n",
    "1. sum them\n",
    "\n",
    "\n",
    "These are sent as batch operators to optimised machine code.\n",
    "\n",
    "Apart from minor overheads associated with sending data back and forth, the result is C or Fortran-like speed.\n",
    "\n",
    "When we run batch operations on arrays like this, we say that the code is *vectorized*.\n",
    "\n",
    "The next section illustrates this point.\n",
    "\n",
    "\n",
    "<a id='ufuncs'></a>"
   ]
  },
  {
   "cell_type": "markdown",
   "id": "4fe40eaf",
   "metadata": {},
   "source": [
    "### Universal Functions\n",
    "\n",
    "\n",
    "<a id='index-16'></a>\n",
    "As discussed above, many functions provided by NumPy are universal functions (ufuncs).\n",
    "\n",
    "By exploiting ufuncs, many operations can be vectorised, leading to faster execution.\n",
    "\n",
    "For example, consider the problem of maximising a function $ f $ of two variables $ (x,y) $ over the square $ [-a, a] \\times [-a, a] $.\n",
    "\n",
    "For $ f $ and $ a $ let us choose\n",
    "\n",
    "$$\n",
    "f(x,y) = \\frac{\\cos(x^2 + y^2)}{1 + x^2 + y^2}\n",
    "\\quad \\text{and} \\quad\n",
    "a = 3\n",
    "$$\n",
    "\n",
    "Here is a plot of $ f $"
   ]
  },
  {
   "cell_type": "code",
   "execution_count": null,
   "id": "9306dbf6",
   "metadata": {
    "hide-output": false
   },
   "outputs": [],
   "source": [
    "def f(x, y):\n",
    "    return np.cos(x**2 + y**2) / (1 + x**2 + y**2)\n",
    "\n",
    "xgrid = np.linspace(-3, 3, 50)\n",
    "ygrid = xgrid\n",
    "x, y = np.meshgrid(xgrid, ygrid)\n",
    "\n",
    "fig = plt.figure(figsize=(10, 8))\n",
    "ax = fig.add_subplot(111, projection='3d')\n",
    "ax.plot_surface(x,\n",
    "                y,\n",
    "                f(x, y),\n",
    "                rstride=2, cstride=2,\n",
    "                cmap=cm.jet,\n",
    "                alpha=0.7,\n",
    "                linewidth=0.25)\n",
    "ax.set_zlim(-0.5, 1.0)\n",
    "ax.set_xlabel('$x$', fontsize=14)\n",
    "ax.set_ylabel('$y$', fontsize=14)\n",
    "plt.show()"
   ]
  },
  {
   "cell_type": "markdown",
   "id": "2baf6e6c",
   "metadata": {},
   "source": [
    "To maximise it, we are going to use a naive grid search:\n",
    "\n",
    "1. Evaluate $ f $ for all $ (x,y) $ in a grid on the square.\n",
    "1. Return the maximum of observed values.\n",
    "\n",
    "\n",
    "The grid will be"
   ]
  },
  {
   "cell_type": "code",
   "execution_count": null,
   "id": "b7126f7a",
   "metadata": {
    "hide-output": false
   },
   "outputs": [],
   "source": [
    "grid = np.linspace(-3, 3, 1000)"
   ]
  },
  {
   "cell_type": "markdown",
   "id": "2445c8b0",
   "metadata": {},
   "source": [
    "Here is a non-vectorised version that uses Python loops."
   ]
  },
  {
   "cell_type": "code",
   "execution_count": null,
   "id": "1af00478",
   "metadata": {
    "hide-output": false
   },
   "outputs": [],
   "source": [
    "%%time\n",
    "\n",
    "m = -np.inf\n",
    "\n",
    "for x in grid:\n",
    "    for y in grid:\n",
    "        z = f(x, y)\n",
    "        if z > m:\n",
    "            m = z"
   ]
  },
  {
   "cell_type": "markdown",
   "id": "f803df46",
   "metadata": {},
   "source": [
    "And here is a vectorised version"
   ]
  },
  {
   "cell_type": "code",
   "execution_count": null,
   "id": "8f6b495c",
   "metadata": {
    "hide-output": false
   },
   "outputs": [],
   "source": [
    "%%time\n",
    "\n",
    "x, y = np.meshgrid(grid, grid)\n",
    "np.max(f(x, y))"
   ]
  },
  {
   "cell_type": "markdown",
   "id": "0c711336",
   "metadata": {},
   "source": [
    "In the vectorised version, all the looping takes place in compiled code.\n",
    "\n",
    "As you can see, the second version is *much* faster."
   ]
  },
  {
   "cell_type": "markdown",
   "id": "3b800d25",
   "metadata": {},
   "source": [
    "## Exercises"
   ]
  },
  {
   "cell_type": "markdown",
   "id": "eb938a9d",
   "metadata": {},
   "source": [
    "## Exercise 11.1\n",
    "\n",
    "Consider the polynomial expression\n",
    "\n",
    "\n",
    "<a id='equation-np-polynom'></a>\n",
    "$$\n",
    "p(x) = a_0 + a_1 x + a_2 x^2 + \\cdots a_N x^N = \\sum_{n=0}^N a_n x^n \\tag{11.1}\n",
    "$$\n",
    "\n",
    "[Earlier](https://python-programming.quantecon.org/python_essentials.html#pyess_ex2), you wrote a simple function `p(x, coeff)` to evaluate [(11.1)](#equation-np-polynom) without considering efficiency.\n",
    "\n",
    "Now write a new function that does the same job, but uses NumPy arrays and array operations for its computations, rather than any form of Python loop.\n",
    "\n",
    "(Such functionality is already implemented as `np.poly1d`, but for the sake of the exercise do not use this class)\n",
    "\n",
    "Use `np.cumprod()`"
   ]
  },
  {
   "cell_type": "markdown",
   "id": "0462bd6c",
   "metadata": {},
   "source": [
    "## Solution to[ Exercise 11.1](https://python-programming.quantecon.org/#np_ex1)\n",
    "\n",
    "This code does the job"
   ]
  },
  {
   "cell_type": "code",
   "execution_count": null,
   "id": "b3672100",
   "metadata": {
    "hide-output": false
   },
   "outputs": [],
   "source": [
    "def p(x, coef):\n",
    "    X = np.ones_like(coef) # creates an array of ones with the same shape as coef\n",
    "    X[1:] = x # replaces everything except the first element\n",
    "    y = np.cumprod(X)   # y = [1, x, x**2,...], compute cumulative product, np.cumprod needs an array of values as input. This is why X is created.\n",
    "    return coef @ y"
   ]
  },
  {
   "cell_type": "code",
   "execution_count": null,
   "id": "2bea9e06-bae2-425a-ac41-72b0d239c38b",
   "metadata": {
    "hide-output": false
   },
   "outputs": [],
   "source": [
    "def p(x, coef):\n",
    "    X = np.ones_like(coef) # creates an array of ones with the same shape as `coef`\n",
    "    X[1:] = x\n",
    "    y = np.cumprod(X)   # y = [1, x, x**2,...]\n",
    "    return coef @ y"
   ]
  },
  {
   "cell_type": "markdown",
   "id": "bf9e6d88",
   "metadata": {},
   "source": [
    "Let us test it"
   ]
  },
  {
   "cell_type": "code",
   "execution_count": null,
   "id": "4cf38baa",
   "metadata": {
    "hide-output": false
   },
   "outputs": [],
   "source": [
    "x = 2\n",
    "coef = np.linspace(2, 4, 3)\n",
    "print(coef)\n",
    "print(p(x, coef))\n",
    "# For comparison\n",
    "q = np.poly1d(np.flip(coef))\n",
    "print(q(x))"
   ]
  },
  {
   "cell_type": "markdown",
   "id": "41bf8954",
   "metadata": {},
   "source": [
    "## Exercise 11.2\n",
    "\n",
    "Let `q` be a NumPy array of length `n` with `q.sum() == 1`.\n",
    "\n",
    "Suppose that `q` represents a [probability mass function](https://en.wikipedia.org/wiki/Probability_mass_function).\n",
    "\n",
    "We wish to generate a discrete random variable $ x $ such that $ \\mathbb P\\{x = i\\} = q_i $.\n",
    "\n",
    "In other words, `x` takes values in `range(len(q))` (This is a bit confusing - the length of values `x` can take is the same length of `q`?) and `x = i` with probability `q[i]`.\n",
    "\n",
    "The standard (inverse transform) algorithm is as follows:\n",
    "\n",
    "- Divide the unit interval $ [0, 1] $ into $ n $ subintervals $ I_0, I_1, \\ldots, I_{n-1} $ such that the length of $ I_i $ is $ q_i $.\n",
    "- Draw a uniform random variable $ U $ on $ [0, 1] $ and return the $ i $ such that $ U \\in I_i $.\n",
    "\n",
    "\n",
    "The probability of drawing $ i $ is the length of $ I_i $, which is equal to $ q_i $.\n",
    "\n",
    "We can implement the algorithm as follows"
   ]
  },
  {
   "cell_type": "code",
   "execution_count": null,
   "id": "7dfe484a",
   "metadata": {
    "hide-output": false
   },
   "outputs": [],
   "source": [
    "from random import uniform\n",
    "\n",
    "def sample(q):\n",
    "    a = 0.0\n",
    "    U = uniform(0, 1)\n",
    "    for i in range(len(q)):\n",
    "        if a < U <= a + q[i]:\n",
    "            return i\n",
    "        a = a + q[i]"
   ]
  },
  {
   "cell_type": "markdown",
   "id": "2e0cb98d",
   "metadata": {},
   "source": [
    "If you cannot see how this works, try thinking through the flow for a simple example, such as `q = [0.25, 0.75]`\n",
    "It helps to sketch the intervals on paper.\n",
    "\n",
    "Your exercise is to speed it up using NumPy, avoiding explicit loops\n",
    "\n",
    "Use `np.searchsorted` and `np.cumsum`\n",
    "\n",
    "If you can, implement the functionality as a class called `DiscreteRV`, where\n",
    "\n",
    "- the data for an instance of the class is the vector of probabilities `q`\n",
    "- the class has a `draw()` method, which returns one draw according to the algorithm described above\n",
    "\n",
    "\n",
    "If you can, write the method so that `draw(k)` returns `k` draws from `q`."
   ]
  },
  {
   "cell_type": "code",
   "execution_count": null,
   "id": "730dbb5b-6e14-4af9-b969-d64748c43237",
   "metadata": {},
   "outputs": [],
   "source": [
    "np.random.randn(1)"
   ]
  },
  {
   "cell_type": "markdown",
   "id": "d3f177f8",
   "metadata": {},
   "source": [
    "## Solution to[ Exercise 11.2](https://python-programming.quantecon.org/#np_ex2)\n",
    "\n",
    "Here’s our first pass at a solution:"
   ]
  },
  {
   "cell_type": "code",
   "execution_count": null,
   "id": "507d32e0",
   "metadata": {
    "hide-output": false
   },
   "outputs": [],
   "source": [
    "from numpy import cumsum\n",
    "from numpy.random import uniform\n",
    "\n",
    "class DiscreteRV:\n",
    "    \"\"\"\n",
    "    Generates an array of draws from a discrete random variable with vector of\n",
    "    probabilities given by q.\n",
    "    \"\"\"\n",
    "\n",
    "    def __init__(self, q):\n",
    "        \"\"\"\n",
    "        The argument q is a NumPy array, or array like, nonnegative and sums\n",
    "        to 1\n",
    "        \"\"\"\n",
    "        self.q = q\n",
    "        self.Q = cumsum(q)\n",
    "\n",
    "    def draw(self, k=1):\n",
    "        \"\"\"\n",
    "        Returns k draws from q. For each such draw, the value i is returned\n",
    "        with probability q[i].\n",
    "        \"\"\"\n",
    "        return self.Q.searchsorted(uniform(0, 1, size=k))"
   ]
  },
  {
   "cell_type": "markdown",
   "id": "1aa2c686",
   "metadata": {},
   "source": [
    "The logic is not obvious, but if you take your time and read it slowly,\n",
    "you will understand.\n",
    "\n",
    "There is a problem here, however.\n",
    "\n",
    "Suppose that `q` is altered after an instance of `discreteRV` is\n",
    "created, for example by"
   ]
  },
  {
   "cell_type": "code",
   "execution_count": null,
   "id": "18f94129",
   "metadata": {
    "hide-output": false
   },
   "outputs": [],
   "source": [
    "q = (0.1, 0.9)\n",
    "d = DiscreteRV(q)\n",
    "d.q = (0.5, 0.5)"
   ]
  },
  {
   "cell_type": "markdown",
   "id": "4b03b4c3",
   "metadata": {},
   "source": [
    "The problem is that `Q` does not change accordingly, and `Q` is the\n",
    "data used in the `draw` method.\n",
    "\n",
    "To deal with this, one option is to compute `Q` every time the draw\n",
    "method is called.\n",
    "\n",
    "But this is inefficient relative to computing `Q` once-off.\n",
    "\n",
    "A better option is to use descriptors.\n",
    "\n",
    "A solution from the [quantecon\n",
    "library](https://github.com/QuantEcon/QuantEcon.py/tree/master/quantecon)\n",
    "using descriptors that behaves as we desire can be found\n",
    "[here](https://github.com/QuantEcon/QuantEcon.py/blob/master/quantecon/discrete_rv.py)."
   ]
  },
  {
   "cell_type": "markdown",
   "id": "e7535034",
   "metadata": {},
   "source": [
    "## Exercise 11.3\n",
    "\n",
    "Recall our [earlier discussion](https://python-programming.quantecon.org/python_oop.html#oop_ex1) of the empirical cumulative distribution function.\n",
    "\n",
    "Your task is to\n",
    "\n",
    "1. Make the `__call__` method more efficient using NumPy.  \n",
    "1. Add a method that plots the ECDF over $ [a, b] $, where $ a $ and $ b $ are method parameters."
   ]
  },
  {
   "cell_type": "markdown",
   "id": "357d0ae4",
   "metadata": {},
   "source": [
    "## Solution to[ Exercise 11.3](https://python-programming.quantecon.org/#np_ex3)\n",
    "\n",
    "An example solution is given below.\n",
    "\n",
    "In essence, we’ve just taken [this code](https://github.com/QuantEcon/QuantEcon.py/blob/master/quantecon/ecdf.py)\n",
    "from QuantEcon and added in a plot method"
   ]
  },
  {
   "cell_type": "code",
   "execution_count": null,
   "id": "e3b22efa",
   "metadata": {
    "hide-output": false
   },
   "outputs": [],
   "source": [
    "\"\"\"\n",
    "Modifies ecdf.py from QuantEcon to add in a plot method\n",
    "\n",
    "\"\"\"\n",
    "\n",
    "class ECDF:\n",
    "    \"\"\"\n",
    "    One-dimensional empirical distribution function given a vector of\n",
    "    observations.\n",
    "\n",
    "    Parameters\n",
    "    ----------\n",
    "    observations : array_like\n",
    "        An array of observations\n",
    "\n",
    "    Attributes\n",
    "    ----------\n",
    "    observations : array_like\n",
    "        An array of observations\n",
    "\n",
    "    \"\"\"\n",
    "\n",
    "    def __init__(self, observations):\n",
    "        self.observations = np.asarray(observations)\n",
    "\n",
    "    def __call__(self, x):\n",
    "        \"\"\"\n",
    "        Evaluates the ecdf at x\n",
    "\n",
    "        Parameters\n",
    "        ----------\n",
    "        x : scalar(float)\n",
    "            The x at which the ecdf is evaluated\n",
    "\n",
    "        Returns\n",
    "        -------\n",
    "        scalar(float)\n",
    "            Fraction of the sample less than x\n",
    "\n",
    "        \"\"\"\n",
    "        return np.mean(self.observations <= x)\n",
    "\n",
    "    def plot(self, ax, a=None, b=None):\n",
    "        \"\"\"\n",
    "        Plot the ecdf on the interval [a, b].\n",
    "\n",
    "        Parameters\n",
    "        ----------\n",
    "        a : scalar(float), optional(default=None)\n",
    "            Lower endpoint of the plot interval\n",
    "        b : scalar(float), optional(default=None)\n",
    "            Upper endpoint of the plot interval\n",
    "\n",
    "        \"\"\"\n",
    "\n",
    "        # === choose reasonable interval if [a, b] not specified === #\n",
    "        if a is None:\n",
    "            a = self.observations.min() - self.observations.std()\n",
    "        if b is None:\n",
    "            b = self.observations.max() + self.observations.std()\n",
    "\n",
    "        # === generate plot === #\n",
    "        x_vals = np.linspace(a, b, num=100)\n",
    "        f = np.vectorize(self.__call__)\n",
    "        ax.plot(x_vals, f(x_vals))\n",
    "        plt.show()"
   ]
  },
  {
   "cell_type": "markdown",
   "id": "9aa7b72c",
   "metadata": {},
   "source": [
    "Here’s an example of usage"
   ]
  },
  {
   "cell_type": "code",
   "execution_count": null,
   "id": "4d78d48f",
   "metadata": {
    "hide-output": false
   },
   "outputs": [],
   "source": [
    "fig, ax = plt.subplots()\n",
    "X = np.random.randn(1000)\n",
    "F = ECDF(X)\n",
    "F.plot(ax)"
   ]
  },
  {
   "cell_type": "markdown",
   "id": "e7a8f0f4",
   "metadata": {},
   "source": [
    "## Exercise 11.4\n",
    "\n",
    "Recall that [broadcasting](#broadcasting) in Numpy can help us conduct element-wise operations on arrays with different number of dimensions without using `for` loops.\n",
    "\n",
    "In this exercise, try to use `for` loops to replicate the result of the following broadcasting operations.\n",
    "\n",
    "**Part1**: Try to replicate this simple example using `for` loops and compare your results with the broadcasting operation below."
   ]
  },
  {
   "cell_type": "code",
   "execution_count": null,
   "id": "24bae0f1",
   "metadata": {
    "hide-output": false
   },
   "outputs": [],
   "source": [
    "np.random.seed(123)\n",
    "x = np.random.randn(4, 4)\n",
    "y = np.random.randn(4)\n",
    "A = x / y"
   ]
  },
  {
   "cell_type": "markdown",
   "id": "8dfbdf51",
   "metadata": {},
   "source": [
    "Here is the output"
   ]
  },
  {
   "cell_type": "code",
   "execution_count": null,
   "id": "a6eb8a9e",
   "metadata": {
    "hide-output": false
   },
   "outputs": [],
   "source": [
    "print(A)"
   ]
  },
  {
   "cell_type": "markdown",
   "id": "1ceb6593",
   "metadata": {},
   "source": [
    "**Part2**: Move on to replicate the result of the following broadcasting operation. Meanwhile, compare the speeds of broadcasting and the `for` loop you implement.\n",
    "\n",
    "For this part of the exercise you can use the `tic`/`toc` functions from the `quantecon` library to time the execution.\n",
    "\n",
    "Let’s make sure this library is installed."
   ]
  },
  {
   "cell_type": "code",
   "execution_count": null,
   "id": "13a774b1",
   "metadata": {
    "hide-output": false
   },
   "outputs": [],
   "source": [
    "!pip install quantecon"
   ]
  },
  {
   "cell_type": "markdown",
   "id": "865a7b34",
   "metadata": {},
   "source": [
    "Now we can import the quantecon package."
   ]
  },
  {
   "cell_type": "code",
   "execution_count": null,
   "id": "cf31b005",
   "metadata": {
    "hide-output": false
   },
   "outputs": [],
   "source": [
    "np.random.seed(123)\n",
    "x = np.random.randn(1000, 100, 100)\n",
    "y = np.random.randn(100)\n",
    "\n",
    "qe.tic()\n",
    "B = x / y\n",
    "qe.toc()"
   ]
  },
  {
   "cell_type": "markdown",
   "id": "5b5651c0",
   "metadata": {},
   "source": [
    "Here is the output"
   ]
  },
  {
   "cell_type": "code",
   "execution_count": null,
   "id": "26756b76",
   "metadata": {
    "hide-output": false
   },
   "outputs": [],
   "source": [
    "print(B)"
   ]
  },
  {
   "cell_type": "markdown",
   "id": "46b28896",
   "metadata": {},
   "source": [
    "## Solution to[ Exercise 11.4](https://python-programming.quantecon.org/#np_ex4)\n",
    "\n",
    "**Part 1 Solution**"
   ]
  },
  {
   "cell_type": "code",
   "execution_count": null,
   "id": "a27b6a49",
   "metadata": {
    "hide-output": false
   },
   "outputs": [],
   "source": [
    "np.random.seed(123)\n",
    "x = np.random.randn(4, 4)\n",
    "y = np.random.randn(4)\n",
    "\n",
    "C = np.empty_like(x)\n",
    "n = len(x)\n",
    "for i in range(n):\n",
    "    for j in range(n):\n",
    "        C[i, j] = x[i, j] / y[j]"
   ]
  },
  {
   "cell_type": "markdown",
   "id": "6d7e4b32",
   "metadata": {},
   "source": [
    "Compare the results to check your answer"
   ]
  },
  {
   "cell_type": "code",
   "execution_count": null,
   "id": "2e9857d3",
   "metadata": {
    "hide-output": false
   },
   "outputs": [],
   "source": [
    "print(C)"
   ]
  },
  {
   "cell_type": "markdown",
   "id": "66484ce9",
   "metadata": {},
   "source": [
    "You can also use `array_equal()` to check your answer"
   ]
  },
  {
   "cell_type": "code",
   "execution_count": null,
   "id": "2fb358c3",
   "metadata": {
    "hide-output": false
   },
   "outputs": [],
   "source": [
    "print(np.array_equal(A, C))"
   ]
  },
  {
   "cell_type": "markdown",
   "id": "90552afc",
   "metadata": {},
   "source": [
    "**Part 2 Solution**"
   ]
  },
  {
   "cell_type": "code",
   "execution_count": null,
   "id": "ce0da365",
   "metadata": {
    "hide-output": false
   },
   "outputs": [],
   "source": [
    "np.random.seed(123)\n",
    "x = np.random.randn(1000, 100, 100)\n",
    "y = np.random.randn(100)\n",
    "\n",
    "qe.tic()\n",
    "D = np.empty_like(x)\n",
    "d1, d2, d3 = x.shape\n",
    "for i in range(d1):\n",
    "    for j in range(d2):\n",
    "        for k in range(d3):\n",
    "            D[i, j, k] = x[i, j, k] / y[k]\n",
    "qe.toc()"
   ]
  },
  {
   "cell_type": "markdown",
   "id": "67539d55",
   "metadata": {},
   "source": [
    "Note that the `for` loop takes much longer than the broadcasting operation.\n",
    "\n",
    "Compare the results to check your answer"
   ]
  },
  {
   "cell_type": "code",
   "execution_count": null,
   "id": "22bb08eb",
   "metadata": {
    "hide-output": false
   },
   "outputs": [],
   "source": [
    "print(D)"
   ]
  },
  {
   "cell_type": "code",
   "execution_count": null,
   "id": "ac7d7aa0",
   "metadata": {
    "hide-output": false
   },
   "outputs": [],
   "source": [
    "print(np.array_equal(B, D))"
   ]
  }
 ],
 "metadata": {
  "date": 1754012527.8072429,
  "filename": "numpy.md",
  "jupytext": {
   "default_lexer": "ipython3",
   "formats": "ipynb,md:myst"
  },
  "kernelspec": {
   "display_name": "Python 3 (ipykernel)",
   "language": "python",
   "name": "python3"
  },
  "language_info": {
   "codemirror_mode": {
    "name": "ipython",
    "version": 3
   },
   "file_extension": ".py",
   "mimetype": "text/x-python",
   "name": "python",
   "nbconvert_exporter": "python",
   "pygments_lexer": "ipython3",
   "version": "3.12.7"
  },
  "title": "NumPy"
 },
 "nbformat": 4,
 "nbformat_minor": 5
}
